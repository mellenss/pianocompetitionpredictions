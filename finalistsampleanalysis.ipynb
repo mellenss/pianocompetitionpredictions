{
 "cells": [
  {
   "cell_type": "code",
   "execution_count": 1,
   "id": "e491ba3e",
   "metadata": {},
   "outputs": [
    {
     "name": "stderr",
     "output_type": "stream",
     "text": [
      "/Users/melodyqian/Library/Python/3.9/lib/python/site-packages/fuzzywuzzy/fuzz.py:11: UserWarning: Using slow pure-python SequenceMatcher. Install python-Levenshtein to remove this warning\n",
      "  warnings.warn('Using slow pure-python SequenceMatcher. Install python-Levenshtein to remove this warning')\n"
     ]
    }
   ],
   "source": [
    "#import everything we need\n",
    "from music21 import * \n",
    "from music21 import corpus, meter, tempo, expressions\n",
    "import numpy as np\n",
    "import pandas as pd\n",
    "from collections import Counter\n",
    "import os\n",
    "from fuzzywuzzy import fuzz\n",
    "from fuzzywuzzy import process"
   ]
  },
  {
   "cell_type": "code",
   "execution_count": null,
   "id": "80a2f30f",
   "metadata": {},
   "outputs": [
    {
     "data": {
      "text/plain": [
       "114"
      ]
     },
     "execution_count": 17,
     "metadata": {},
     "output_type": "execute_result"
    }
   ],
   "source": [
    "#create dictionary with file names and file paths to them\n",
    "folder_path = '/Users/melodyqian/Documents/GitHub/pianocompetitionpredictions/winnersample/'\n",
    "paths=[]\n",
    "filenames=[]\n",
    "for filename in os.listdir(folder_path):\n",
    "    if filename.endswith('.mxl'):  # Or the file extension you're working with\n",
    "        full_path = os.path.join(folder_path, filename)\n",
    "        paths.append(full_path)\n",
    "        filenames.append(filename)\n",
    "\n",
    "for i in range(len(filenames)):\n",
    "    filenames[i] = filenames[i].replace('_', ' ')  \n",
    "    filenames[i] = filenames[i].replace('.mxl', '')\n",
    "\n",
    "pathsdict=dict(zip(filenames, paths))\n",
    "#len(pathsdict)\n",
    "#There are 114 items"
   ]
  },
  {
   "cell_type": "code",
   "execution_count": null,
   "id": "b2c048f2",
   "metadata": {},
   "outputs": [],
   "source": [
    "#Read in CSV with piece names. modify so it's just pieces that were found. makes matching easier for later.\n",
    "winnercsv=pd.read_csv(\"/Users/melodyqian/Documents/GitHub/pianocompetitionpredictions/FinalistPiecesCSV.csv\")\n",
    "json=pd.read_json(\"/Users/melodyqian/Documents/GitHub/pianocompetitionpredictions/finalist_sheet_music_results.json\")\n",
    "valid_indices = json[json['title'].notna()].index\n",
    "filteredwinnercsv = winnercsv.loc[valid_indices].copy()\n",
    "filteredwinnercsv.to_csv(\"/Users/melodyqian/Documents/GitHub/pianocompetitionpredictions/FilteredFinalistsCSV.csv\", index=False)\n",
    "difficultymetric=json.dropna(subset=['title'])\n"
   ]
  },
  {
   "cell_type": "code",
   "execution_count": 18,
   "id": "b92716c8",
   "metadata": {},
   "outputs": [],
   "source": [
    "def match_titles_to_files(df, filenames, dict, threshold=70):\n",
    "    matched_files = []\n",
    "    for title in df['title']:\n",
    "        match = process.extractOne(title, filenames, scorer=fuzz.token_sort_ratio)\n",
    "        if match and match[1] >= threshold: \n",
    "           matched_files.append(dict.get(match[0], np.nan))  \n",
    "        else:\n",
    "            matched_files.append(np.nan)  \n",
    "    return matched_files  \n",
    "\n"
   ]
  },
  {
   "cell_type": "code",
   "execution_count": 46,
   "id": "65dc4cd1",
   "metadata": {},
   "outputs": [],
   "source": [
    "#now we have the query matched matched to the title matched to the file. this way we can match the difficulty metric to the main CSV we imported earlier.\n",
    "filekeys = list(pathsdict.keys())\n",
    "difficultymetric['matched_file'] = match_titles_to_files(difficultymetric, filekeys, pathsdict)\n",
    "difficultymetric=difficultymetric.dropna(subset=['matched_file'])\n",
    "difficultymetric['matched_file']=difficultymetric['matched_file'].astype(str)"
   ]
  },
  {
   "cell_type": "code",
   "execution_count": 47,
   "id": "302b792a",
   "metadata": {},
   "outputs": [],
   "source": [
    "#a dictionary we use later\n",
    "note_durations = {\n",
    "    '32nd_and_shorter': 0.125,\n",
    "    '16th': 0.25,\n",
    "    'eighth': 0.5,\n",
    "    'quarter': 1,\n",
    "    'dotted quarter': 1.5,\n",
    "    'half': 2,\n",
    "    'dotted half': 3,\n",
    "    'whole': 4\n",
    "}\n",
    "\n"
   ]
  },
  {
   "cell_type": "code",
   "execution_count": 36,
   "id": "276fb901",
   "metadata": {},
   "outputs": [],
   "source": [
    "#LEVIATHAN MUSIC ANALYSIS FUNCTION I'M SORRY IT'S SO UGLY I DID THEM ALL SEPARATELY AND JUST COMBINED THEM LOL\n",
    "def analyze(filepath):\n",
    "    score=converter.parse(filepath)\n",
    "    flatscore=score.flatten()\n",
    "    def notecount(flatscore):\n",
    "       num_notes=0\n",
    "       for elem in flatscore:\n",
    "           if isinstance(elem, note.Note):\n",
    "              num_notes += 1\n",
    "           elif isinstance(elem, chord.Chord):\n",
    "              num_notes += len(elem.pitches)\n",
    "       return(num_notes)\n",
    "    notecounts=notecount(flatscore)\n",
    "    chords= [element for element in flatscore if isinstance(element, chord.Chord)]\n",
    "    numberchords= len(chords)   \n",
    "    def chordpitchdistances(chords):\n",
    "        pitchdistances= []\n",
    "        for i in range(len(chords)-1):\n",
    "            firstchord= chords[i]\n",
    "            secondchord= chords[i+1]\n",
    "            rootInterval=interval.Interval(firstchord.root(),secondchord.root())\n",
    "            pitchdistances.append(rootInterval.semitones)\n",
    "        return(pitchdistances)\n",
    "    pitchdistances=chordpitchdistances(chords)\n",
    "    chord_abs_dis= [abs(dis) for dis in pitchdistances]\n",
    "    meanchorddis= np.mean(chord_abs_dis)\n",
    "    def chordtimedistances(chords):\n",
    "        timedistances=[]\n",
    "        for i in range(len(chords)-1):\n",
    "            firstchord= chords[i]\n",
    "            secondchord= chords[i+1]\n",
    "            time_difference = secondchord.offset - firstchord.offset\n",
    "            timedistances.append(time_difference) \n",
    "        return timedistances\n",
    "    chordtimedistance=chordtimedistances(chords)\n",
    "    meantimedistance=np.mean(chordtimedistance)\n",
    "    key=flatscore.analyze('key')\n",
    "    timesignature=flatscore.getElementsByClass(meter.TimeSignature)\n",
    "    timesignaturechanges=len(timesignature)\n",
    "    def findtrills(score):\n",
    "        trills=0\n",
    "        totalbeats=0\n",
    "        for element in score.notesAndRests:\n",
    "            if element.expressions:  # Check if the note has expressions\n",
    "                for expr in element.expressions:\n",
    "                    if isinstance(expr, expressions.Trill):  # Check if it's a trill\n",
    "                        trills+= 1 \n",
    "                        totalbeats+=element.quarterLength\n",
    "        return [trills, totalbeats]\n",
    "    trill_length=findtrills(flatscore)\n",
    "    tempos= flatscore.getElementsByClass(tempo.MetronomeMark)\n",
    "    sorted_tempos = sorted(tempos, key=lambda tm: tm.measureNumber)\n",
    "    weighted_tempo=[]\n",
    "    for i in range(len(sorted_tempos)):\n",
    "        current_bpm = sorted_tempos[i].getQuarterBPM()\n",
    "        current_measure = sorted_tempos[i].measureNumber\n",
    "        if i < len(sorted_tempos) - 1:\n",
    "            next_measure = sorted_tempos[i + 1].measureNumber\n",
    "            duration = next_measure - current_measure\n",
    "        else:\n",
    "            # If this is the last tempo, assume it lasts to the end of the piece\n",
    "            duration = score.highestTime\n",
    "        weighted_tempo.append((current_bpm, duration))\n",
    "    total_weight = sum(duration for _, duration in weighted_tempo)\n",
    "    weighted_mean = (\n",
    "    sum(bpm * duration for bpm, duration in weighted_tempo) / total_weight\n",
    "    if total_weight != 0 else 0\n",
    "    )\n",
    "    num_measures = len(score.recurse().getElementsByClass('Measure'))\n",
    "    duration_counter = Counter(note.duration.quarterLength for note in score.recurse().notes)\n",
    "    def count_notes(score, duration_counter):\n",
    "        note_counts= {}\n",
    "        for name, duration in note_durations.items():\n",
    "            if name=='32nd_and_shorter':\n",
    "                note_counts[name]= sum(count for d, count in duration_counter.items() if d<=duration)\n",
    "            else:\n",
    "                note_counts[name]=duration_counter[duration]\n",
    "        return note_counts\n",
    "    notedict= count_notes(score,duration_counter)\n",
    "    return{\n",
    "        \"numberofnotes\": notecounts,\n",
    "        \"numberofchords\": numberchords,\n",
    "        \"numberofmeasures\": num_measures,\n",
    "        \"meandistancebetweenchords\": meanchorddis,\n",
    "        \"meantimebetweenchords\": meantimedistance,\n",
    "        \"key\": key,\n",
    "        \"timechanges\": timesignaturechanges,\n",
    "        \"trillslength\": trill_length,\n",
    "        \"avgtempo\" : weighted_mean,\n",
    "        **notedict\n",
    "    }"
   ]
  },
  {
   "cell_type": "code",
   "execution_count": 54,
   "id": "3f2a7dc6",
   "metadata": {},
   "outputs": [
    {
     "name": "stdout",
     "output_type": "stream",
     "text": [
      "Error analyzing /Users/melodyqian/Documents/GitHub/pianocompetitionpredictions/winnersample/Piano_Sonata_Pastorale_in_C_Major_--_James_S_Liauw.mxl: 'str' object has no attribute 'sites'\n"
     ]
    },
    {
     "name": "stderr",
     "output_type": "stream",
     "text": [
      "/Users/melodyqian/Library/Python/3.9/lib/python/site-packages/numpy/_core/fromnumeric.py:3596: RuntimeWarning: Mean of empty slice.\n",
      "  return _methods._mean(a, axis=axis, dtype=dtype,\n",
      "/Users/melodyqian/Library/Python/3.9/lib/python/site-packages/numpy/_core/_methods.py:138: RuntimeWarning: invalid value encountered in scalar divide\n",
      "  ret = ret.dtype.type(ret / rcount)\n",
      "/Users/melodyqian/Library/Python/3.9/lib/python/site-packages/music21/musicxml/xmlToM21.py:5128: MusicXMLWarning: Could not import wedge: Error in getting DynamicWedges\n",
      "  warnings.warn(f'Could not import {tag}: {excep}', MusicXMLWarning)\n",
      "/Users/melodyqian/Library/Python/3.9/lib/python/site-packages/music21/musicxml/xmlToM21.py:4081: MusicXMLWarning: Line <bracket> stop without start\n",
      "  warnings.warn('Line <' + mxObj.tag + '> stop without start', MusicXMLWarning)\n",
      "/Users/melodyqian/Library/Python/3.9/lib/python/site-packages/music21/musicxml/xmlToM21.py:5128: MusicXMLWarning: Could not import octave-shift: Error in getting Ottava\n",
      "  warnings.warn(f'Could not import {tag}: {excep}', MusicXMLWarning)\n",
      "/Users/melodyqian/Library/Python/3.9/lib/python/site-packages/music21/musicxml/xmlToM21.py:4081: MusicXMLWarning: Line <dashes> stop without start\n",
      "  warnings.warn('Line <' + mxObj.tag + '> stop without start', MusicXMLWarning)\n",
      "/Users/melodyqian/Library/Python/3.9/lib/python/site-packages/music21/musicxml/xmlToM21.py:1730: MusicXMLWarning: 51 does not map to a valid instrument!\n",
      "  warnings.warn(MusicXMLWarning(mpe))\n",
      "/Users/melodyqian/Library/Python/3.9/lib/python/site-packages/music21/musicxml/xmlToM21.py:1730: MusicXMLWarning: 52 does not map to a valid instrument!\n",
      "  warnings.warn(MusicXMLWarning(mpe))\n"
     ]
    },
    {
     "name": "stdout",
     "output_type": "stream",
     "text": [
      "Error analyzing /Users/melodyqian/Documents/GitHub/pianocompetitionpredictions/winnersample/Piano_Sonata_No._7_In_D_Major_Op._10_No._3_3rd_Movement.mxl: 'Unpitched' object has no attribute 'pitch'\n",
      "Error analyzing /Users/melodyqian/Documents/GitHub/pianocompetitionpredictions/winnersample/Piano_Sonata_No._7_In_D_Major_Op._10_No._3_3rd_Movement.mxl: 'Unpitched' object has no attribute 'pitch'\n"
     ]
    }
   ],
   "source": [
    "def safe_analyze(path):\n",
    "    try:\n",
    "        return analyze(path)\n",
    "    except Exception as e:\n",
    "        print(f\"Error analyzing {path}: {e}\")\n",
    "        return {}\n",
    "\n",
    "esults_df = difficultymetric['matched_file'].apply(safe_analyze).apply(pd.Series)"
   ]
  },
  {
   "cell_type": "code",
   "execution_count": 64,
   "id": "7d215d8c",
   "metadata": {},
   "outputs": [],
   "source": [
    "esults_df['Composite'] = difficultymetric['query'].values\n",
    "finalistsdifficultysample= pd.merge(esults_df, filteredwinnercsv, on='Composite')"
   ]
  },
  {
   "cell_type": "code",
   "execution_count": null,
   "id": "d1450154",
   "metadata": {},
   "outputs": [],
   "source": [
    "winnerbio=pd.read_csv('/Users/melodyqian/Documents/GitHub/pianocompetitionpredictions/finalistbioinfo.csv')\n",
    "merged_df = pd.merge(winnerbio, finalistsdifficultysample, on='Composite', how='inner')\n",
    "\n"
   ]
  },
  {
   "cell_type": "code",
   "execution_count": 67,
   "id": "abf1c84a",
   "metadata": {},
   "outputs": [],
   "source": [
    "merged_df.to_csv(\"FinalistSampleCSV.csv\")"
   ]
  }
 ],
 "metadata": {
  "kernelspec": {
   "display_name": "Python 3",
   "language": "python",
   "name": "python3"
  },
  "language_info": {
   "codemirror_mode": {
    "name": "ipython",
    "version": 3
   },
   "file_extension": ".py",
   "mimetype": "text/x-python",
   "name": "python",
   "nbconvert_exporter": "python",
   "pygments_lexer": "ipython3",
   "version": "3.9.6"
  }
 },
 "nbformat": 4,
 "nbformat_minor": 5
}
