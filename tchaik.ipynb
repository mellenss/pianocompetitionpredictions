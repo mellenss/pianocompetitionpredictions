{
 "cells": [
  {
   "cell_type": "code",
   "execution_count": 10,
   "id": "1937c4a7-6998-4607-b3f4-49a542c0f711",
   "metadata": {},
   "outputs": [],
   "source": [
    "import requests\n",
    "import pandas as pd\n",
    "import html"
   ]
  },
  {
   "cell_type": "code",
   "execution_count": 4,
   "id": "8ea57f65",
   "metadata": {},
   "outputs": [
    {
     "name": "stdout",
     "output_type": "stream",
     "text": [
      "Defaulting to user installation because normal site-packages is not writeable\n",
      "Requirement already satisfied: beautifulsoup4 in /Users/melodyqian/Library/Python/3.9/lib/python/site-packages (4.13.3)\n",
      "Requirement already satisfied: soupsieve>1.2 in /Users/melodyqian/Library/Python/3.9/lib/python/site-packages (from beautifulsoup4) (2.6)\n",
      "Requirement already satisfied: typing-extensions>=4.0.0 in /Users/melodyqian/Library/Python/3.9/lib/python/site-packages (from beautifulsoup4) (4.12.2)\n",
      "\u001b[33mWARNING: You are using pip version 21.2.4; however, version 25.0.1 is available.\n",
      "You should consider upgrading via the '/Library/Developer/CommandLineTools/usr/bin/python3 -m pip install --upgrade pip' command.\u001b[0m\n"
     ]
    }
   ],
   "source": [
    "import sys\n",
    "!{sys.executable} -m pip install beautifulsoup4\n",
    "from bs4 import BeautifulSoup"
   ]
  },
  {
   "cell_type": "code",
   "execution_count": 5,
   "id": "62396dcf-da82-425c-8f54-402238aec7bc",
   "metadata": {},
   "outputs": [],
   "source": [
    "tchaik2015=\"https://tchaikovskycompetition.com/en/archive-competition/15-competition-2015-god/\"\n",
    "headers = {\n",
    "    \"User-Agent\": \"Mozilla/5.0 (Windows NT 10.0; Win64; x64) AppleWebKit/537.36 (KHTML, like Gecko) Chrome/91.0.4472.124 Safari/537.36\"\n",
    "}\n",
    "response = requests.get(tchaik2015, headers=headers)\n",
    "page1= requests.get(tchaik2015, headers=headers)\n",
    "soup = BeautifulSoup(page1.content, \"html.parser\")\n",
    "\n",
    "\n"
   ]
  },
  {
   "cell_type": "code",
   "execution_count": 4,
   "id": "ddc48938-6f6b-4e07-b9f6-dcc6b3f09dd7",
   "metadata": {},
   "outputs": [],
   "source": [
    "#All Contestant Names here. Dataframe is created here\n",
    "\n",
    "all_participant_cards = soup.find_all(\"a\", {\"data-open-modal\": True})  # Find all <a> with data-open-modal\n",
    "#contestantnum=1 #this is for validation\n",
    "name15_data = []\n",
    "for card in all_participant_cards:\n",
    "    if card[\"data-open-modal\"].startswith(\"participant-piano-\"):  # Check if it starts with \"participant-piano-\"\n",
    "        contestantnames2015 = card.find_all(\"p\", class_=\"member-card__name\")\n",
    "        for name in contestantnames2015:\n",
    "            #print(name.get_text(strip=True))\n",
    "            name15_data.append({\"Name\": name})\n",
    "\n",
    "df15 = pd.DataFrame(name15_data)\n",
    "#print(df)\n",
    "#print(contestantnum) #also for validation\n",
    "\n",
    "\n"
   ]
  },
  {
   "cell_type": "code",
   "execution_count": 5,
   "id": "8da48f55-1406-4465-8e4c-d9fa2b9175b2",
   "metadata": {},
   "outputs": [],
   "source": [
    "#Country of Origin\n",
    "country15_data=[]\n",
    "for card in all_participant_cards:\n",
    "    if card[\"data-open-modal\"].startswith(\"participant-piano-\"):  # Check if it starts with \"participant-piano-\"\n",
    "        contestantcountry2015 = card.find_all(\"p\", class_=\"member-card__country\")\n",
    "        for country in contestantcountry2015:\n",
    "            #print(name.get_text(strip=True))\n",
    "            country15_data.append({\"Country\":country})\n",
    "\n",
    "df15[\"Country\"]=country15_data\n"
   ]
  },
  {
   "cell_type": "code",
   "execution_count": 26,
   "id": "35d43904",
   "metadata": {},
   "outputs": [
    {
     "name": "stdout",
     "output_type": "stream",
     "text": [
      "<div class=\"accordion__content\">\n",
      "<p>\n",
      "<b>Round I </b>\n",
      "</p>\n",
      "<p>\n",
      "\t Johann S. Bach. Prélude and Fugue in C-sharp major, Well-Tempered Clavier, Book 1, BWV 848\n",
      "</p>\n",
      "<p>\n",
      "\t Ludwig van Beethoven. Sonata 26 in E-fat major (The Farewell), Op. 81a\n",
      "</p>\n",
      "<p>\n",
      "\t Pyotr Tchaikovsky. Chant élégiaque, Dance Scene (Invitation to a Trepak), Op.72,14 and 18\n",
      "</p>\n",
      "<p>\n",
      "\t Frédéric Chopin. Étude in B minor, op. 25,10\n",
      "</p>\n",
      "<p>\n",
      "\t Franz Liszt. Étude Wilde Jagd from Transcendental Études, S. 139,8\n",
      "</p>\n",
      "<p>\n",
      "</p>\n",
      "<p>\n",
      "\t Sergei Rachmaninov. Étude-tableau in D major, Op. 39,9\n",
      "</p>\n",
      "<p>\n",
      "<b><br/>\n",
      "</b>\n",
      "</p>\n",
      "<b> </b>\n",
      "<p>\n",
      "<b>\n",
      "\tRound II </b>\n",
      "</p>\n",
      "<p>\n",
      "</p>\n",
      "<p>\n",
      "\t Joseph Haydn. Sonata in C major, Hob. XVI/48\n",
      "</p>\n",
      "<b> </b>\n",
      "<p>\n",
      "<b>\n",
      "\tStage 1 </b>\n",
      "</p>\n",
      "<p>\n",
      "\t Camille Saint-Saëns – Franz Liszt. Danse macabre (arr. by Vladimir Horowitz)\n",
      "</p>\n",
      "<p>\n",
      "\t Sergei Rachmaninov. Variations on a Theme of Corelli in D minor, Op. 42\n",
      "</p>\n",
      "<p>\n",
      "\t Felix Mendelssohn – Sergei Rachmaninov. Scherzo from the Incidental music to Shakespeare’s A Midsummer Night’s Dream\n",
      "</p>\n",
      "<p>\n",
      "</p>\n",
      "<p>\n",
      "\t Franz Liszt. Totentanz, S. 525\n",
      "</p>\n",
      "<b> </b>\n",
      "<p>\n",
      "<b>\n",
      "\tStage 2 </b>\n",
      "</p>\n",
      "<p>\n",
      "</p>\n",
      "<p>\n",
      "\t Wolfgang A. Mozart. Piano Concerto 20 in D minor, K. 466\n",
      "</p>\n",
      "<br/>\n",
      "<b> </b>\n",
      "<p>\n",
      "<b>\n",
      "\tRound III</b>\n",
      "</p>\n",
      "<p>\n",
      "\t Pyotr Tchaikovsky. Piano Concerto 1 in B-fat minor, Op. 23\n",
      "</p>\n",
      "<p>\n",
      "</p>\n",
      "<p>\n",
      "\t Sergei Prokofiev. Piano Concerto 3 in C major, Op. 26\n",
      "</p> </div>\n"
     ]
    }
   ],
   "source": [
    "#Round Repetoire\n",
    "for card in all_participant_cards:\n",
    "    if card.get(\"data-open-modal\", \"\").startswith(\"participant-piano-9070\"):\n",
    "        \n",
    "        # Locate the associated modal using `data-modal`\n",
    "        modal_id = card[\"data-open-modal\"]\n",
    "        modal = soup.find(\"div\", {\"data-modal\": modal_id})\n",
    "\n",
    "        if modal:\n",
    "            # Now find `accordion__content` within this modal\n",
    "            test = modal.find(\"div\", class_=\"accordion__content\")\n",
    "\n",
    "            if test:\n",
    "                test.get_text(separator=\"\\n\", strip=True)\n",
    "                print(test)  # Print formatted HTML\n",
    "            else:\n",
    "                print(\"Accordion content not found inside modal.\")\n",
    "        else:\n",
    "            print(f\"No modal found for {modal_id}\")\n"
   ]
  },
  {
   "cell_type": "code",
   "execution_count": null,
   "id": "dae1084b-b791-4ccc-804d-659deba300bf",
   "metadata": {},
   "outputs": [
    {
     "name": "stdout",
     "output_type": "stream",
     "text": [
      "<b>Round I</b>\n",
      "[]\n"
     ]
    }
   ],
   "source": [
    "round1_data=[]\n",
    "round2_data=[]\n",
    "round3_data=[]\n",
    "\n",
    "firstround= soup.find(\"b\", string=\"Round I\")\n",
    "print(firstround)\n",
    "\n",
    "if firstround:\n",
    "    round_content = []\n",
    "    for elem in firstround.find_all_next():\n",
    "        if elem.name == \"b\":  # Stop at the next round title\n",
    "            break\n",
    "        if elem.name == \"p\":  # Only extract from <p> tags\n",
    "            round_content.append(elem.get_text(strip=True)) \n",
    "\n",
    "\n"
   ]
  },
  {
   "cell_type": "code",
   "execution_count": null,
   "id": "e3e2fe9b-c020-4b07-815b-f8c45138729e",
   "metadata": {},
   "outputs": [],
   "source": [
    "hkjhkj"
   ]
  }
 ],
 "metadata": {
  "kernelspec": {
   "display_name": "Python 3",
   "language": "python",
   "name": "python3"
  },
  "language_info": {
   "codemirror_mode": {
    "name": "ipython",
    "version": 3
   },
   "file_extension": ".py",
   "mimetype": "text/x-python",
   "name": "python",
   "nbconvert_exporter": "python",
   "pygments_lexer": "ipython3",
   "version": "3.9.6"
  }
 },
 "nbformat": 4,
 "nbformat_minor": 5
}
