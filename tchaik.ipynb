{
 "cells": [
  {
   "cell_type": "code",
   "execution_count": 39,
   "id": "1937c4a7-6998-4607-b3f4-49a542c0f711",
   "metadata": {},
   "outputs": [],
   "source": [
    "import requests\n",
    "import pandas as pd"
   ]
  },
  {
   "cell_type": "code",
   "execution_count": 13,
   "id": "8ea57f65",
   "metadata": {},
   "outputs": [
    {
     "name": "stdout",
     "output_type": "stream",
     "text": [
      "Defaulting to user installation because normal site-packages is not writeable\n",
      "Collecting beautifulsoup4\n",
      "  Downloading beautifulsoup4-4.13.3-py3-none-any.whl (186 kB)\n",
      "\u001b[K     |████████████████████████████████| 186 kB 4.8 MB/s eta 0:00:01\n",
      "\u001b[?25hCollecting soupsieve>1.2\n",
      "  Downloading soupsieve-2.6-py3-none-any.whl (36 kB)\n",
      "Requirement already satisfied: typing-extensions>=4.0.0 in /Users/melodyqian/Library/Python/3.9/lib/python/site-packages (from beautifulsoup4) (4.12.2)\n",
      "Installing collected packages: soupsieve, beautifulsoup4\n",
      "Successfully installed beautifulsoup4-4.13.3 soupsieve-2.6\n",
      "\u001b[33mWARNING: You are using pip version 21.2.4; however, version 25.0.1 is available.\n",
      "You should consider upgrading via the '/Library/Developer/CommandLineTools/usr/bin/python3 -m pip install --upgrade pip' command.\u001b[0m\n"
     ]
    }
   ],
   "source": [
    "import sys\n",
    "!{sys.executable} -m pip install beautifulsoup4\n",
    "from bs4 import BeautifulSoup"
   ]
  },
  {
   "cell_type": "code",
   "execution_count": 14,
   "id": "62396dcf-da82-425c-8f54-402238aec7bc",
   "metadata": {},
   "outputs": [],
   "source": [
    "tchaik2015=\"https://tchaikovskycompetition.com/en/archive-competition/15-competition-2015-god/\"\n",
    "headers = {\n",
    "    \"User-Agent\": \"Mozilla/5.0 (Windows NT 10.0; Win64; x64) AppleWebKit/537.36 (KHTML, like Gecko) Chrome/91.0.4472.124 Safari/537.36\"\n",
    "}\n",
    "response = requests.get(tchaik2015, headers=headers)\n",
    "page1= requests.get(tchaik2015, headers=headers)\n",
    "soup = BeautifulSoup(page1.content, \"html.parser\")\n",
    "with open(\"page.html\", \"w\") as writer:\n",
    "  writer.write(response.text)\n",
    "\n"
   ]
  },
  {
   "cell_type": "code",
   "execution_count": 43,
   "id": "ddc48938-6f6b-4e07-b9f6-dcc6b3f09dd7",
   "metadata": {},
   "outputs": [],
   "source": [
    "#All Contestant Names here. Dataframe is created here\n",
    "\n",
    "all_participant_cards = soup.find_all(\"a\", {\"data-open-modal\": True})  # Find all <a> with data-open-modal\n",
    "#contestantnum=1 #this is for validation\n",
    "name15_data = []\n",
    "for card in all_participant_cards:\n",
    "    if card[\"data-open-modal\"].startswith(\"participant-piano-\"):  # Check if it starts with \"participant-piano-\"\n",
    "        contestantnames2015 = card.find_all(\"p\", class_=\"member-card__name\")\n",
    "        for name in contestantnames2015:\n",
    "            #print(name.get_text(strip=True))\n",
    "            name15_data.append({\"Name\": name})\n",
    "\n",
    "df15 = pd.DataFrame(name15_data)\n",
    "#print(df)\n",
    "#print(contestantnum) #also for validation\n",
    "\n",
    "\n"
   ]
  },
  {
   "cell_type": "code",
   "execution_count": 46,
   "id": "8da48f55-1406-4465-8e4c-d9fa2b9175b2",
   "metadata": {},
   "outputs": [],
   "source": [
    "#Country of Origin\n",
    "country15_data=[]\n",
    "for card in all_participant_cards:\n",
    "    if card[\"data-open-modal\"].startswith(\"participant-piano-\"):  # Check if it starts with \"participant-piano-\"\n",
    "        contestantcountry2015 = card.find_all(\"p\", class_=\"member-card__country\")\n",
    "        for country in contestantcountry2015:\n",
    "            #print(name.get_text(strip=True))\n",
    "            country15_data.append({\"Country\":country})\n",
    "\n",
    "df15[\"Country\"]=country15_data\n"
   ]
  },
  {
   "cell_type": "code",
   "execution_count": null,
   "id": "dae1084b-b791-4ccc-804d-659deba300bf",
   "metadata": {},
   "outputs": [
    {
     "name": "stdout",
     "output_type": "stream",
     "text": [
      "<b>Round I</b>\n",
      "[]\n"
     ]
    }
   ],
   "source": [
    "round1_data=[]\n",
    "round2_data=[]\n",
    "round3_data=[]\n",
    "\n",
    "firstround= soup.find(\"b\", string=\"Round I\")\n",
    "print(firstround)\n",
    "\n",
    "if firstround:\n",
    "    round_content = []\n",
    "    for elem in firstround.find_all_next():\n",
    "        if elem.name == \"b\":  # Stop at the next round title\n",
    "            break\n",
    "        if elem.name == \"p\":  # Only extract from <p> tags\n",
    "            round_content.append(elem.get_text(strip=True)) \n",
    "\n",
    "\n"
   ]
  },
  {
   "cell_type": "code",
   "execution_count": null,
   "id": "e3e2fe9b-c020-4b07-815b-f8c45138729e",
   "metadata": {},
   "outputs": [],
   "source": []
  }
 ],
 "metadata": {
  "kernelspec": {
   "display_name": "Python 3",
   "language": "python",
   "name": "python3"
  },
  "language_info": {
   "codemirror_mode": {
    "name": "ipython",
    "version": 3
   },
   "file_extension": ".py",
   "mimetype": "text/x-python",
   "name": "python",
   "nbconvert_exporter": "python",
   "pygments_lexer": "ipython3",
   "version": "3.9.6"
  }
 },
 "nbformat": 4,
 "nbformat_minor": 5
}
