{
 "cells": [
  {
   "cell_type": "code",
   "execution_count": 1,
   "metadata": {},
   "outputs": [
    {
     "name": "stdout",
     "output_type": "stream",
     "text": [
      "Defaulting to user installation because normal site-packages is not writeable\n",
      "Collecting annotated-types==0.6.0 (from -r /Users/melodyqian/Documents/GitHub/pianocompetitionpredictions/scrape-musescore-main/requirements.txt (line 1))\n",
      "  Downloading annotated_types-0.6.0-py3-none-any.whl.metadata (12 kB)\n",
      "Collecting anyio==4.2.0 (from -r /Users/melodyqian/Documents/GitHub/pianocompetitionpredictions/scrape-musescore-main/requirements.txt (line 2))\n",
      "  Downloading anyio-4.2.0-py3-none-any.whl.metadata (4.6 kB)\n",
      "Collecting asttokens==2.4.1 (from -r /Users/melodyqian/Documents/GitHub/pianocompetitionpredictions/scrape-musescore-main/requirements.txt (line 3))\n",
      "  Downloading asttokens-2.4.1-py2.py3-none-any.whl.metadata (5.2 kB)\n",
      "Requirement already satisfied: attrs==25.3.0 in /Users/melodyqian/Library/Python/3.9/lib/python/site-packages (from -r /Users/melodyqian/Documents/GitHub/pianocompetitionpredictions/scrape-musescore-main/requirements.txt (line 4)) (25.3.0)\n",
      "Requirement already satisfied: beautifulsoup4==4.13.3 in /Users/melodyqian/Library/Python/3.9/lib/python/site-packages (from -r /Users/melodyqian/Documents/GitHub/pianocompetitionpredictions/scrape-musescore-main/requirements.txt (line 5)) (4.13.3)\n",
      "Requirement already satisfied: behave==1.2.6 in /Users/melodyqian/Library/Python/3.9/lib/python/site-packages (from -r /Users/melodyqian/Documents/GitHub/pianocompetitionpredictions/scrape-musescore-main/requirements.txt (line 6)) (1.2.6)\n",
      "Requirement already satisfied: certifi==2025.1.31 in /Users/melodyqian/Library/Python/3.9/lib/python/site-packages (from -r /Users/melodyqian/Documents/GitHub/pianocompetitionpredictions/scrape-musescore-main/requirements.txt (line 7)) (2025.1.31)\n",
      "Collecting cffi==1.16.0 (from -r /Users/melodyqian/Documents/GitHub/pianocompetitionpredictions/scrape-musescore-main/requirements.txt (line 8))\n",
      "  Downloading cffi-1.16.0-cp39-cp39-macosx_11_0_arm64.whl.metadata (1.5 kB)\n",
      "Requirement already satisfied: chardet==5.2.0 in /Users/melodyqian/Library/Python/3.9/lib/python/site-packages (from -r /Users/melodyqian/Documents/GitHub/pianocompetitionpredictions/scrape-musescore-main/requirements.txt (line 9)) (5.2.0)\n",
      "Requirement already satisfied: charset-normalizer==3.4.1 in /Users/melodyqian/Library/Python/3.9/lib/python/site-packages (from -r /Users/melodyqian/Documents/GitHub/pianocompetitionpredictions/scrape-musescore-main/requirements.txt (line 10)) (3.4.1)\n",
      "Requirement already satisfied: colorama==0.4.6 in /Users/melodyqian/Library/Python/3.9/lib/python/site-packages (from -r /Users/melodyqian/Documents/GitHub/pianocompetitionpredictions/scrape-musescore-main/requirements.txt (line 11)) (0.4.6)\n",
      "Collecting contourpy==1.2.0 (from -r /Users/melodyqian/Documents/GitHub/pianocompetitionpredictions/scrape-musescore-main/requirements.txt (line 12))\n",
      "  Downloading contourpy-1.2.0-cp39-cp39-macosx_11_0_arm64.whl.metadata (5.8 kB)\n",
      "Requirement already satisfied: cssselect==1.3.0 in /Users/melodyqian/Library/Python/3.9/lib/python/site-packages (from -r /Users/melodyqian/Documents/GitHub/pianocompetitionpredictions/scrape-musescore-main/requirements.txt (line 13)) (1.3.0)\n",
      "Requirement already satisfied: cycler==0.12.1 in /Users/melodyqian/Library/Python/3.9/lib/python/site-packages (from -r /Users/melodyqian/Documents/GitHub/pianocompetitionpredictions/scrape-musescore-main/requirements.txt (line 14)) (0.12.1)\n",
      "Collecting decorator==5.1.1 (from -r /Users/melodyqian/Documents/GitHub/pianocompetitionpredictions/scrape-musescore-main/requirements.txt (line 15))\n",
      "  Using cached decorator-5.1.1-py3-none-any.whl.metadata (4.0 kB)\n",
      "Collecting distlib==0.3.8 (from -r /Users/melodyqian/Documents/GitHub/pianocompetitionpredictions/scrape-musescore-main/requirements.txt (line 16))\n",
      "  Downloading distlib-0.3.8-py2.py3-none-any.whl.metadata (5.1 kB)\n",
      "Requirement already satisfied: exceptiongroup==1.2.2 in /Users/melodyqian/Library/Python/3.9/lib/python/site-packages (from -r /Users/melodyqian/Documents/GitHub/pianocompetitionpredictions/scrape-musescore-main/requirements.txt (line 17)) (1.2.2)\n",
      "Requirement already satisfied: execnet==2.1.1 in /Users/melodyqian/Library/Python/3.9/lib/python/site-packages (from -r /Users/melodyqian/Documents/GitHub/pianocompetitionpredictions/scrape-musescore-main/requirements.txt (line 18)) (2.1.1)\n",
      "Collecting executing==2.0.1 (from -r /Users/melodyqian/Documents/GitHub/pianocompetitionpredictions/scrape-musescore-main/requirements.txt (line 19))\n",
      "  Downloading executing-2.0.1-py2.py3-none-any.whl.metadata (9.0 kB)\n",
      "Requirement already satisfied: fasteners==0.19 in /Users/melodyqian/Library/Python/3.9/lib/python/site-packages (from -r /Users/melodyqian/Documents/GitHub/pianocompetitionpredictions/scrape-musescore-main/requirements.txt (line 20)) (0.19)\n",
      "Requirement already satisfied: filelock==3.18.0 in /Users/melodyqian/Library/Python/3.9/lib/python/site-packages (from -r /Users/melodyqian/Documents/GitHub/pianocompetitionpredictions/scrape-musescore-main/requirements.txt (line 21)) (3.18.0)\n",
      "Collecting fonttools==4.47.0 (from -r /Users/melodyqian/Documents/GitHub/pianocompetitionpredictions/scrape-musescore-main/requirements.txt (line 22))\n",
      "  Downloading fonttools-4.47.0-cp39-cp39-macosx_10_9_universal2.whl.metadata (157 kB)\n",
      "Requirement already satisfied: h11==0.14.0 in /Users/melodyqian/Library/Python/3.9/lib/python/site-packages (from -r /Users/melodyqian/Documents/GitHub/pianocompetitionpredictions/scrape-musescore-main/requirements.txt (line 23)) (0.14.0)\n",
      "Collecting httpcore==1.0.2 (from -r /Users/melodyqian/Documents/GitHub/pianocompetitionpredictions/scrape-musescore-main/requirements.txt (line 24))\n",
      "  Downloading httpcore-1.0.2-py3-none-any.whl.metadata (20 kB)\n",
      "Collecting httpx==0.26.0 (from -r /Users/melodyqian/Documents/GitHub/pianocompetitionpredictions/scrape-musescore-main/requirements.txt (line 25))\n",
      "  Downloading httpx-0.26.0-py3-none-any.whl.metadata (7.6 kB)\n",
      "Requirement already satisfied: idna==3.10 in /Users/melodyqian/Library/Python/3.9/lib/python/site-packages (from -r /Users/melodyqian/Documents/GitHub/pianocompetitionpredictions/scrape-musescore-main/requirements.txt (line 26)) (3.10)\n",
      "Requirement already satisfied: iniconfig==2.1.0 in /Users/melodyqian/Library/Python/3.9/lib/python/site-packages (from -r /Users/melodyqian/Documents/GitHub/pianocompetitionpredictions/scrape-musescore-main/requirements.txt (line 27)) (2.1.0)\n",
      "\u001b[31mERROR: Ignored the following yanked versions: 7.1.0, 7.30.0, 8.13.0, 8.16.0, 8.17.0\u001b[0m\u001b[31m\n",
      "\u001b[0m\u001b[31mERROR: Could not find a version that satisfies the requirement ipython==8.19.0 (from versions: 0.10, 0.10.1, 0.10.2, 0.11, 0.12, 0.12.1, 0.13, 0.13.1, 0.13.2, 1.0.0, 1.1.0, 1.2.0, 1.2.1, 2.0.0, 2.1.0, 2.2.0, 2.3.0, 2.3.1, 2.4.0, 2.4.1, 3.0.0, 3.1.0, 3.2.0, 3.2.1, 3.2.2, 3.2.3, 4.0.0b1, 4.0.0, 4.0.1, 4.0.2, 4.0.3, 4.1.0rc1, 4.1.0rc2, 4.1.0, 4.1.1, 4.1.2, 4.2.0, 4.2.1, 5.0.0b1, 5.0.0b2, 5.0.0b3, 5.0.0b4, 5.0.0rc1, 5.0.0, 5.1.0, 5.2.0, 5.2.1, 5.2.2, 5.3.0, 5.4.0, 5.4.1, 5.5.0, 5.6.0, 5.7.0, 5.8.0, 5.9.0, 5.10.0, 6.0.0rc1, 6.0.0, 6.1.0, 6.2.0, 6.2.1, 6.3.0, 6.3.1, 6.4.0, 6.5.0, 7.0.0b1, 7.0.0rc1, 7.0.0, 7.0.1, 7.1.1, 7.2.0, 7.3.0, 7.4.0, 7.5.0, 7.6.0, 7.6.1, 7.7.0, 7.8.0, 7.9.0, 7.10.0, 7.10.1, 7.10.2, 7.11.0, 7.11.1, 7.12.0, 7.13.0, 7.14.0, 7.15.0, 7.16.0, 7.16.1, 7.16.2, 7.16.3, 7.17.0, 7.18.0, 7.18.1, 7.19.0, 7.20.0, 7.21.0, 7.22.0, 7.23.0, 7.23.1, 7.24.0, 7.24.1, 7.25.0, 7.26.0, 7.27.0, 7.28.0, 7.29.0, 7.30.1, 7.31.0, 7.31.1, 7.32.0, 7.33.0, 7.34.0, 8.0.0a1, 8.0.0b1, 8.0.0rc1, 8.0.0, 8.0.1, 8.1.0, 8.1.1, 8.2.0, 8.3.0, 8.4.0, 8.5.0, 8.6.0, 8.7.0, 8.8.0, 8.9.0, 8.10.0, 8.11.0, 8.12.0, 8.12.1, 8.12.2, 8.12.3, 8.13.1, 8.13.2, 8.14.0, 8.15.0, 8.16.1, 8.17.1, 8.17.2, 8.18.0, 8.18.1)\u001b[0m\u001b[31m\n",
      "\u001b[0m\u001b[31mERROR: No matching distribution found for ipython==8.19.0\u001b[0m\u001b[31m\n",
      "\u001b[0mNote: you may need to restart the kernel to use updated packages.\n"
     ]
    }
   ],
   "source": [
    "pip install -r /Users/melodyqian/Documents/GitHub/pianocompetitionpredictions/scrape-musescore-main/requirements.txt"
   ]
  },
  {
   "cell_type": "code",
   "execution_count": 1,
   "metadata": {},
   "outputs": [],
   "source": [
    "from start_driver import start_driver\n",
    "from login import login\n",
    "import time\n",
    "\n",
    "\n",
    "def main():\n",
    "    driver = start_driver()\n",
    "    login(driver)\n",
    "\n",
    "\n",
    "if __name__ == \"__main__\":\n",
    "    main()\n",
    "\n"
   ]
  },
  {
   "cell_type": "code",
   "execution_count": null,
   "metadata": {},
   "outputs": [],
   "source": []
  }
 ],
 "metadata": {
  "kernelspec": {
   "display_name": "Python 3",
   "language": "python",
   "name": "python3"
  },
  "language_info": {
   "codemirror_mode": {
    "name": "ipython",
    "version": 3
   },
   "file_extension": ".py",
   "mimetype": "text/x-python",
   "name": "python",
   "nbconvert_exporter": "python",
   "pygments_lexer": "ipython3",
   "version": "3.9.6"
  }
 },
 "nbformat": 4,
 "nbformat_minor": 2
}
