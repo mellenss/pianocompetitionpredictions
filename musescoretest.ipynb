{
 "cells": [
  {
   "cell_type": "code",
   "execution_count": 1,
   "metadata": {},
   "outputs": [
    {
     "name": "stderr",
     "output_type": "stream",
     "text": [
      "/Users/melodyqian/Library/Python/3.9/lib/python/site-packages/urllib3/__init__.py:35: NotOpenSSLWarning: urllib3 v2 only supports OpenSSL 1.1.1+, currently the 'ssl' module is compiled with 'LibreSSL 2.8.3'. See: https://github.com/urllib3/urllib3/issues/3020\n",
      "  warnings.warn(\n"
     ]
    }
   ],
   "source": [
    "from selenium import webdriver\n",
    "import time"
   ]
  },
  {
   "cell_type": "code",
   "execution_count": null,
   "metadata": {},
   "outputs": [
    {
     "ename": "NameError",
     "evalue": "name 'os' is not defined",
     "output_type": "error",
     "traceback": [
      "\u001b[0;31m---------------------------------------------------------------------------\u001b[0m",
      "\u001b[0;31mNameError\u001b[0m                                 Traceback (most recent call last)",
      "Cell \u001b[0;32mIn[4], line 5\u001b[0m\n\u001b[1;32m      2\u001b[0m user_data_dir \u001b[38;5;241m=\u001b[39m \u001b[38;5;124mr\u001b[39m\u001b[38;5;124m\"\u001b[39m\u001b[38;5;124mC:\u001b[39m\u001b[38;5;124m\\\u001b[39m\u001b[38;5;124mSelenium\u001b[39m\u001b[38;5;124m\\\u001b[39m\u001b[38;5;124mChromeProfile\u001b[39m\u001b[38;5;124m\"\u001b[39m  \u001b[38;5;66;03m# Custom profile directory\u001b[39;00m\n\u001b[1;32m      4\u001b[0m \u001b[38;5;66;03m# Ensure the directory exists\u001b[39;00m\n\u001b[0;32m----> 5\u001b[0m \u001b[38;5;28;01mif\u001b[39;00m \u001b[38;5;129;01mnot\u001b[39;00m \u001b[43mos\u001b[49m\u001b[38;5;241m.\u001b[39mpath\u001b[38;5;241m.\u001b[39mexists(user_data_dir):\n\u001b[1;32m      6\u001b[0m     os\u001b[38;5;241m.\u001b[39mmakedirs(user_data_dir)\n\u001b[1;32m      8\u001b[0m \u001b[38;5;28;01mtry\u001b[39;00m:\n\u001b[1;32m      9\u001b[0m     \u001b[38;5;66;03m# Correct syntax for subprocess to launch Chrome\u001b[39;00m\n",
      "\u001b[0;31mNameError\u001b[0m: name 'os' is not defined"
     ]
    }
   ],
   "source": [
    "\n",
    "chrome_path = r\"C:\\Applications\\chromedriver-win64\\chromedriver.exe\"  # Path to Chrome\n",
    "user_data_dir = r\"C:\\Selenium\\ChromeProfile\"  # Custom profile directory\n",
    "\n",
    "if not os.path.exists(user_data_dir):\n",
    "    os.makedirs(user_data_dir)\n",
    "\n",
    "try:\n",
    "    # Correct syntax for subprocess to launch Chrome\n",
    "    process = subprocess.Popen([\n",
    "        chrome_path,\n",
    "        \"--remote-debugging-port=9222\",\n",
    "        f\"--user-data-dir={user_data_dir}\",\n",
    "        \"--no-first-run\",\n",
    "        \"--disable-popup-blocking\",\n",
    "        \"--start-maximized\"\n",
    "    ], stdout=subprocess.PIPE, stderr=subprocess.PIPE)\n",
    "\n",
    "    print(\n",
    "        f\"✅ Chrome started in debug mode on port 9222 with profile {user_data_dir}\")\n",
    "\n",
    "    # Wait for the Chrome process to terminate\n",
    "    process.wait()  # This will block until the chromedriver process ends\n",
    "    print(\"Chrome has been closed.\")\n",
    "\n",
    "except Exception as e:\n",
    "    print(f\"❌ Error starting Chrome: {e}\")\n",
    "\n",
    "options = ChromeOptions()\n",
    "# Debugging address for the running Chrome\n",
    "options.debugger_address = \"127.0.0.1:9222\"\n",
    "\n",
    "# Provide the path to ChromeDriver\n",
    "service = Service(\n",
    "    executable_path=\"C:/Coding/chromedriver-win64/chromedriver.exe\")\n",
    "\n",
    "\n",
    "# Connect to an already running Chrome instance with the debugger address\n",
    "browser = webdriver.Chrome(service=service, options=options)"
   ]
  },
  {
   "cell_type": "code",
   "execution_count": null,
   "metadata": {},
   "outputs": [],
   "source": [
    "driver = webdriver.Chrome()\n",
    "\n",
    "driver.get(\"https://musescore.com/login\")\n",
    "\n",
    "# Fill in login form manually or automate it:\n",
    "driver.find_element(\"name\", \"username\").send_keys(\"pianoellenfor\")\n",
    "driver.find_element(\"name\", \"password\").send_keys(\"Mouse24##w\")\n",
    "driver.find_element(\"name\", \"submit\").click()\n",
    "\n",
    "time.sleep(5)  # Wait for login\n",
    "\n",
    "driver.get(\"https://musescore.com/user/12345/scores/67890\")\n",
    "# Add logic to click the download button or extract file URL\n",
    "\n",
    "# Optional: get session cookies and use them with requests\n",
    "cookies = driver.get_cookies()\n",
    "print(cookies)\n",
    "\n",
    "driver.quit()"
   ]
  }
 ],
 "metadata": {
  "kernelspec": {
   "display_name": "Python 3",
   "language": "python",
   "name": "python3"
  },
  "language_info": {
   "codemirror_mode": {
    "name": "ipython",
    "version": 3
   },
   "file_extension": ".py",
   "mimetype": "text/x-python",
   "name": "python",
   "nbconvert_exporter": "python",
   "pygments_lexer": "ipython3",
   "version": "3.9.6"
  }
 },
 "nbformat": 4,
 "nbformat_minor": 2
}
