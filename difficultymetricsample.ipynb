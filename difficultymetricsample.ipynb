{
 "cells": [
  {
   "cell_type": "code",
   "execution_count": 2,
   "id": "24853a0a",
   "metadata": {},
   "outputs": [
    {
     "name": "stdout",
     "output_type": "stream",
     "text": [
      "Defaulting to user installation because normal site-packages is not writeable\n",
      "Requirement already satisfied: fuzzywuzzy in /Users/melodyqian/Library/Python/3.9/lib/python/site-packages (0.18.0)\n",
      "Note: you may need to restart the kernel to use updated packages.\n"
     ]
    }
   ],
   "source": [
    "pip install fuzzywuzzy"
   ]
  },
  {
   "cell_type": "code",
   "execution_count": 3,
   "id": "1a30f6fb",
   "metadata": {},
   "outputs": [
    {
     "name": "stderr",
     "output_type": "stream",
     "text": [
      "/Users/melodyqian/Library/Python/3.9/lib/python/site-packages/fuzzywuzzy/fuzz.py:11: UserWarning: Using slow pure-python SequenceMatcher. Install python-Levenshtein to remove this warning\n",
      "  warnings.warn('Using slow pure-python SequenceMatcher. Install python-Levenshtein to remove this warning')\n"
     ]
    }
   ],
   "source": [
    "from music21 import * \n",
    "from music21 import corpus, meter, tempo, expressions\n",
    "import numpy as np\n",
    "import pandas as pd\n",
    "from collections import Counter\n",
    "import os\n",
    "from fuzzywuzzy import fuzz\n",
    "from fuzzywuzzy import process"
   ]
  },
  {
   "cell_type": "code",
   "execution_count": 4,
   "id": "588f62ee",
   "metadata": {},
   "outputs": [],
   "source": [
    "folder_path = '/Users/melodyqian/Documents/GitHub/pianocompetitionpredictions/total57/'\n",
    "paths=[]\n",
    "filenames=[]\n",
    "for filename in os.listdir(folder_path):\n",
    "    if filename.endswith('.mxl'):  # Or the file extension you're working with\n",
    "        full_path = os.path.join(folder_path, filename)\n",
    "        paths.append(full_path)\n",
    "        filenames.append(filename)\n",
    "\n",
    "for i in range(len(filenames)):\n",
    "    filenames[i] = filenames[i].replace('_', ' ')  \n",
    "    filenames[i] = filenames[i].replace('.mxl', '')\n",
    "\n",
    "pathsdict=dict(zip(filenames, paths))"
   ]
  },
  {
   "cell_type": "code",
   "execution_count": 5,
   "id": "7dd3fbf6",
   "metadata": {},
   "outputs": [],
   "source": [
    "json=pd.read_json(\"/Users/melodyqian/Documents/GitHub/pianocompetitionpredictions/scrape-musescore-2/sheet_music_results.json\")\n",
    "difficultymetric=json.dropna(subset=['title'])"
   ]
  },
  {
   "cell_type": "code",
   "execution_count": 6,
   "id": "7ae62458",
   "metadata": {},
   "outputs": [],
   "source": [
    "def match_titles_to_files(df, filenames, dict, threshold=70):\n",
    "    matched_files = []\n",
    "    for title in df['title']:\n",
    "        match = process.extractOne(title, filenames, scorer=fuzz.token_sort_ratio)\n",
    "        if match and match[1] >= threshold: \n",
    "           matched_files.append(dict.get(match[0], np.nan))  \n",
    "        else:\n",
    "            matched_files.append(np.nan)  \n",
    "    return matched_files  "
   ]
  },
  {
   "cell_type": "code",
   "execution_count": 7,
   "id": "9d657553",
   "metadata": {},
   "outputs": [
    {
     "name": "stderr",
     "output_type": "stream",
     "text": [
      "/var/folders/bf/j0nvm48j18b4mlfybgxf_1fm0000gn/T/ipykernel_9116/3898033698.py:2: SettingWithCopyWarning: \n",
      "A value is trying to be set on a copy of a slice from a DataFrame.\n",
      "Try using .loc[row_indexer,col_indexer] = value instead\n",
      "\n",
      "See the caveats in the documentation: https://pandas.pydata.org/pandas-docs/stable/user_guide/indexing.html#returning-a-view-versus-a-copy\n",
      "  difficultymetric['matched_file'] = match_titles_to_files(difficultymetric, filekeys, pathsdict)\n"
     ]
    }
   ],
   "source": [
    "filekeys = list(pathsdict.keys())\n",
    "difficultymetric['matched_file'] = match_titles_to_files(difficultymetric, filekeys, pathsdict)"
   ]
  },
  {
   "cell_type": "code",
   "execution_count": null,
   "id": "df8ac4ee",
   "metadata": {},
   "outputs": [
    {
     "data": {
      "text/plain": [
       "str"
      ]
     },
     "execution_count": 11,
     "metadata": {},
     "output_type": "execute_result"
    }
   ],
   "source": [
    "\n",
    "difficultymetric[['title', 'matched_file']]\n",
    "difficultymetric=difficultymetric.dropna(subset=['matched_file'])"
   ]
  },
  {
   "cell_type": "code",
   "execution_count": 45,
   "id": "56a1f3f9",
   "metadata": {},
   "outputs": [],
   "source": [
    "note_durations = {\n",
    "    '32nd_and_shorter': 0.125,\n",
    "    '16th': 0.25,\n",
    "    'eighth': 0.5,\n",
    "    'quarter': 1,\n",
    "    'dotted quarter': 1.5,\n",
    "    'half': 2,\n",
    "    'dotted half': 3,\n",
    "    'whole': 4\n",
    "}"
   ]
  },
  {
   "cell_type": "code",
   "execution_count": 213,
   "id": "2455fbb7",
   "metadata": {},
   "outputs": [],
   "source": [
    "def analyze(filepath):\n",
    "    filepath=str(filepath)\n",
    "    score=converter.parse(filepath)\n",
    "    flatscore=score.flatten()\n",
    "    def notecount(flatscore):\n",
    "       num_notes=0\n",
    "       for elem in flatscore:\n",
    "           if isinstance(elem, note.Note):\n",
    "              num_notes += 1\n",
    "           elif isinstance(elem, chord.Chord):\n",
    "              num_notes += len(elem.pitches)\n",
    "       return(num_notes)\n",
    "    notecounts=notecount(flatscore)\n",
    "    chords= [element for element in flatscore if isinstance(element, chord.Chord)]\n",
    "    numberchords= len(chords)   \n",
    "    def chordpitchdistances(chords):\n",
    "        pitchdistances= []\n",
    "        for i in range(len(chords)-1):\n",
    "            firstchord= chords[i]\n",
    "            secondchord= chords[i+1]\n",
    "            rootInterval=interval.Interval(firstchord.root(),secondchord.root())\n",
    "            pitchdistances.append(rootInterval.semitones)\n",
    "        return(pitchdistances)\n",
    "    pitchdistances=chordpitchdistances(chords)\n",
    "    chord_abs_dis= [abs(dis) for dis in pitchdistances]\n",
    "    meanchorddis= np.mean(chord_abs_dis)\n",
    "    def chordtimedistances(chords):\n",
    "        timedistances=[]\n",
    "        for i in range(len(chords)-1):\n",
    "            firstchord= chords[i]\n",
    "            secondchord= chords[i+1]\n",
    "            time_difference = secondchord.offset - firstchord.offset\n",
    "            timedistances.append(time_difference) \n",
    "        return timedistances\n",
    "    chordtimedistance=chordtimedistances(chords)\n",
    "    meantimedistance=np.mean(chordtimedistance)\n",
    "    key=flatscore.analyze('key')\n",
    "    timesignature=flatscore.getElementsByClass(meter.TimeSignature)\n",
    "    timesignaturechanges=len(timesignature)\n",
    "    def findtrills(score):\n",
    "        trills=0\n",
    "        totalbeats=0\n",
    "        for element in score.notesAndRests:\n",
    "            if element.expressions:  # Check if the note has expressions\n",
    "                for expr in element.expressions:\n",
    "                    if isinstance(expr, expressions.Trill):  # Check if it's a trill\n",
    "                        trills+= 1 \n",
    "                        totalbeats+=element.quarterLength\n",
    "        return [trills, totalbeats]\n",
    "    trill_length=findtrills(flatscore)\n",
    "    tempos= flatscore.getElementsByClass(tempo.MetronomeMark)\n",
    "    sorted_tempos = sorted(tempos, key=lambda tm: tm.measureNumber)\n",
    "    weighted_tempo=[]\n",
    "    for i in range(len(sorted_tempos)):\n",
    "        current_bpm = sorted_tempos[i].getQuarterBPM()\n",
    "        current_measure = sorted_tempos[i].measureNumber\n",
    "        if i < len(sorted_tempos) - 1:\n",
    "            next_measure = sorted_tempos[i + 1].measureNumber\n",
    "            duration = next_measure - current_measure\n",
    "        else:\n",
    "            # If this is the last tempo, assume it lasts to the end of the piece\n",
    "            duration = score.highestTime\n",
    "        weighted_tempo.append((current_bpm, duration))\n",
    "    total_weight = sum(duration for _, duration in weighted_tempo)\n",
    "    weighted_mean = (\n",
    "    sum(bpm * duration for bpm, duration in weighted_tempo) / total_weight\n",
    "    if total_weight != 0 else 0\n",
    "    )\n",
    "    num_measures = len(score.recurse().getElementsByClass('Measure'))\n",
    "    duration_counter = Counter(note.duration.quarterLength for note in score.recurse().notes)\n",
    "    def count_notes(score, duration_counter):\n",
    "        note_counts= {}\n",
    "        for name, duration in note_durations.items():\n",
    "            if name=='32nd_and_shorter':\n",
    "                note_counts[name]= sum(count for d, count in duration_counter.items() if d<=duration)\n",
    "            else:\n",
    "                note_counts[name]=duration_counter[duration]\n",
    "        return note_counts\n",
    "    notedict= count_notes(score,duration_counter)\n",
    "    return{\n",
    "        \"numberofnotes\": notecounts,\n",
    "        \"numberofchords\": numberchords,\n",
    "        \"numberofmeasures\": num_measures,\n",
    "        \"meandistancebetweenchords\": meanchorddis,\n",
    "        \"meantimebetweenchords\": meantimedistance,\n",
    "        \"key\": key,\n",
    "        \"timechanges\": timesignaturechanges,\n",
    "        \"trillslength\": trill_length,\n",
    "        \"avgtempo\" : weighted_mean,\n",
    "        **notedict\n",
    "    }"
   ]
  },
  {
   "cell_type": "code",
   "execution_count": null,
   "id": "2039fd9f",
   "metadata": {},
   "outputs": [
    {
     "name": "stderr",
     "output_type": "stream",
     "text": [
      "/Users/melodyqian/Library/Python/3.9/lib/python/site-packages/numpy/_core/fromnumeric.py:3596: RuntimeWarning: Mean of empty slice.\n",
      "  return _methods._mean(a, axis=axis, dtype=dtype,\n",
      "/Users/melodyqian/Library/Python/3.9/lib/python/site-packages/numpy/_core/_methods.py:138: RuntimeWarning: invalid value encountered in scalar divide\n",
      "  ret = ret.dtype.type(ret / rcount)\n"
     ]
    }
   ],
   "source": [
    "results_df = difficultymetric['matched_file'].apply(analyze).apply(pd.Series)"
   ]
  },
  {
   "cell_type": "code",
   "execution_count": null,
   "id": "7af4de1f",
   "metadata": {},
   "outputs": [
    {
     "data": {
      "text/plain": [
       "22                  Bach BWV 807 Allemande English Suite\n",
       "23     J.S. Bach - English Suite no.3 - Allemande, BW...\n",
       "29     J.S. Bach - French Suite No. 5 Gavotte in G Ma...\n",
       "30              Goldberg Variations BWV 988, Variation 1\n",
       "35     Bach JS - Partita No 2 in C minor BMV 826 Move...\n",
       "40                       Fugue No. 16 BWV 885 in G Minor\n",
       "41                     Prélude No. 20 BWV 865 in A Minor\n",
       "42                     Prélude No. 20 BWV 889 in A Minor\n",
       "43                      Fugue No. 17 BWV 862 in A♭ Major\n",
       "44                      Fugue No. 17 BWV 886 in A♭ Major\n",
       "46                       Fugue No. 23 BWV 868 in B Major\n",
       "47                     Prélude No. 23 BWV 892 in B Major\n",
       "48                       Fugue No. 24 BWV 869 in B Minor\n",
       "49                     Prélude No. 24 BWV 893 in B Minor\n",
       "50                       BWV 866 - Fugue in B flat Major\n",
       "52                    Prélude No. 22 BWV 867 in B♭ Minor\n",
       "53                      Fugue No. 22 BWV 891 in B♭ Minor\n",
       "56                        Fugue No. 1 BWV 870 in C Major\n",
       "58                        Fugue No. 2 BWV 847 in C Minor\n",
       "59                        Fugue No. 2 BWV 871 in C Minor\n",
       "61              ONLINE_Prélude No. 3 BWV 872 in C♯ Major\n",
       "62                     Prélude No. 4 BWV 849 in C♯ Minor\n",
       "66                        Fugue No. 5 BWV 874 in D Major\n",
       "67                      Prélude No. 6 BWV 875 in D Minor\n",
       "68                     Prélude No. 8 BWV 877 in D♯ Minor\n",
       "69                        Fugue No. 9 BWV 878 in E Major\n",
       "71                       Fugue No. 10 BWV 879 in E Minor\n",
       "73                     Prélude No. 7 BWV 852 in E♭ Major\n",
       "74                       Fugue No. 8 BWV 853 in D♯ Minor\n",
       "76                     Prélude No. 11 BWV 880 in F Major\n",
       "77                     Prélude No. 12 BWV 881 in F Minor\n",
       "78                    Prélude No. 13 BWV 882 in F♯ Major\n",
       "79                     Prélude No. 15 BWV 860 in G Major\n",
       "80                       Fugue No. 16 BWV 861 in G Minor\n",
       "81                       Fugue No. 16 BWV 885 in G Minor\n",
       "83                      Fugue No. 18 BWV 863 in G♯ Minor\n",
       "148    Piano Sonata No. 2 in A Major, Op. 2 No. 2 – L...\n",
       "153    Piano Sonata No.3 mv.3 in C Major - L. v. Beet...\n",
       "159    Beethoven - Piano Sonata No. 14 in C Sharp Min...\n",
       "160    Piano Sonata No. 7 in D Major, Op.10 No.3, 1st...\n",
       "161    Piano Sonata No. 15 in D Major, Op.28 \"Pastora...\n",
       "169    Piano Sonata No. 4 in E-flat Major, Op.7 \"Gran...\n",
       "171    Piano Sonata No. 6 in F Major, Op.10 No.2, 3rd...\n",
       "174    Beethoven - Sonata in F minor Op.2 No.1 Moveme...\n",
       "179    Piano Sonata No.3 mv.3 in C Major - L. v. Beet...\n",
       "192      10 Preludes, op. 33, No. 2 – Sergei Bortkiewicz\n",
       "202    Intermezzo in A Major, Op 118, No. 2 – Johanne...\n",
       "206                      Intermezzo op. 118 nº. 4 Brahms\n",
       "208                     Brahms- Intermezzo Op. 118 No. 2\n",
       "261                       Étude Opus 10 No. 2 in A Minor\n",
       "326    Chopin - Piano Sonata No. 2 in B Flat Minor, O...\n",
       "328    Chopin - Piano Sonata No. 2 in B Flat Minor, O...\n",
       "621    Transcendental Etude No. 3: Paysage – Franz Liszt\n",
       "623                         Feux Follets - Piano Tiles 2\n",
       "628         Liszt - Transcendental Etude No. 4 (Mazeppa)\n",
       "689                           Eine Kleine Gigue - Mozart\n",
       "741    Mozart - Piano Sonata in C minor K 457 No. 14 ...\n",
       "742    Mozart - Piano Sonata in C minor K 457 No. 14 ...\n",
       "887    Variations On A Theme Of Corelli, Op.42, Var. ...\n",
       "Name: Title, dtype: object"
      ]
     },
     "execution_count": 218,
     "metadata": {},
     "output_type": "execute_result"
    }
   ],
   "source": [
    "results_df['Title'] = difficultymetric['title'].values"
   ]
  },
  {
   "cell_type": "code",
   "execution_count": 219,
   "id": "b709a33c",
   "metadata": {},
   "outputs": [],
   "source": [
    "results_df.to_csv(\"Difficulty_Metric_Sample.csv\", index=False) "
   ]
  }
 ],
 "metadata": {
  "kernelspec": {
   "display_name": "Python 3",
   "language": "python",
   "name": "python3"
  },
  "language_info": {
   "codemirror_mode": {
    "name": "ipython",
    "version": 3
   },
   "file_extension": ".py",
   "mimetype": "text/x-python",
   "name": "python",
   "nbconvert_exporter": "python",
   "pygments_lexer": "ipython3",
   "version": "3.9.6"
  }
 },
 "nbformat": 4,
 "nbformat_minor": 5
}
