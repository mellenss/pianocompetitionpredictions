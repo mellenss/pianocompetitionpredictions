{
 "cells": [
  {
   "cell_type": "code",
   "execution_count": 3,
   "id": "29f2523c",
   "metadata": {},
   "outputs": [],
   "source": [
    "import pandas as pd\n",
    "\n",
    "df = pd.read_csv(\"414FINALDIFFSAMPLE.csv\")  \n"
   ]
  },
  {
   "cell_type": "code",
   "execution_count": 9,
   "id": "4312ea78",
   "metadata": {},
   "outputs": [
    {
     "name": "stdout",
     "output_type": "stream",
     "text": [
      "  Competitior Name                   Piece  difficulty_score\n",
      "0    Andrey Gugnin  Mily Balakirev Islamey          7.057763\n"
     ]
    }
   ],
   "source": [
    "import pandas as pd\n",
    "\n",
    "# Sample data from your input, now including the competitor's name and piece\n",
    "data = {\n",
    "    'numberofnotes': [8628],\n",
    "    'numberofchords': [1879],\n",
    "    'numberofmeasures': [694],\n",
    "    'avgtempo': [145.5479547],\n",
    "    '32nd_and_shorter': [173],\n",
    "    '16th': [3773],\n",
    "    'eighth': [788],\n",
    "    'quarter': [134],\n",
    "    'dotted quarter': [107],\n",
    "    'half': [0],\n",
    "    'dotted half': [40],\n",
    "    'whole': [0],\n",
    "    'Competitior Name': ['Andrey Gugnin'],\n",
    "    'Piece': ['Mily Balakirev Islamey'],\n",
    "    'Country of Origin': ['Russia'],\n",
    "    'Age': [29],\n",
    "    'Stage': ['Preliminary'],\n",
    "    'Composite.2': [1],\n",
    "    'Ranking': [1],\n",
    "    'Duration': [489],\n",
    "}\n",
    "\n",
    "# Creating a pandas DataFrame\n",
    "df = pd.DataFrame(data)\n",
    "\n",
    "# Difficulty metric formula\n",
    "df['difficulty_score'] = (\n",
    "    0.35 * (df['numberofnotes'] / df['Duration']) +  # note density\n",
    "    0.2  * (df['numberofchords'] / df['Duration']) +  # chord density\n",
    "    0.2  * (df['32nd_and_shorter'] / df['Duration']) +  # rhythmic density\n",
    "    0.15 * (1 - df['avgtempo'] / 200) +  # slower tempo may imply harder control\n",
    "    0.1  * (1 - df['Duration'] / 500)  # very long pieces may be more demanding overall  # Normalize duration to fit between 0 and 1\n",
    ")\n",
    "\n",
    "# Display the DataFrame with the difficulty score\n",
    "print(df[['Competitior Name', 'Piece', 'difficulty_score']])\n"
   ]
  },
  {
   "cell_type": "code",
   "execution_count": 10,
   "id": "f0031c56",
   "metadata": {},
   "outputs": [
    {
     "name": "stdout",
     "output_type": "stream",
     "text": [
      "  Competitior Name                Piece  difficulty_score\n",
      "0  Shishkin Dmitry  Liszt La Campanella            7.5742\n"
     ]
    }
   ],
   "source": [
    "import pandas as pd\n",
    "\n",
    "# Sample data from your input, now including the competitor's name and piece\n",
    "data = {\n",
    "    'numberofnotes': [4289],\n",
    "    'numberofchords': [887],\n",
    "    'numberofmeasures': [292],\n",
    "    'avgtempo': [0],  # Tempo value is not provided, so assuming 0 here\n",
    "    '32nd_and_shorter': [825],\n",
    "    '16th': [1428],\n",
    "    'eighth': [685],\n",
    "    'quarter': [3],\n",
    "    'dotted quarter': [3],\n",
    "    'half': [0],\n",
    "    'dotted half': [2],\n",
    "    'whole': [0],\n",
    "    'Competitior Name': ['Shishkin Dmitry'],\n",
    "    'Piece': ['Liszt La Campanella'],\n",
    "    'Country of Origin': ['Russia'],\n",
    "    'Age': [0],  # No age given, so assuming 0 here\n",
    "    'Stage': ['Preliminary'],\n",
    "    'Composite.2': [2],  # Composite value from the image\n",
    "    'Ranking': [2],  # Ranking value from the image\n",
    "    'Duration': [250],  # Assuming 250:00 is 25000 seconds\n",
    "}\n",
    "\n",
    "# Creating a pandas DataFrame\n",
    "df = pd.DataFrame(data)\n",
    "\n",
    "# Difficulty metric formula\n",
    "df['difficulty_score'] = (\n",
    "    0.35 * (df['numberofnotes'] / df['Duration']) +  # note density\n",
    "    0.2  * (df['numberofchords'] / df['Duration']) +  # chord density\n",
    "    0.2  * (df['32nd_and_shorter'] / df['Duration']) +  # rhythmic density\n",
    "    0.15 * (1 - df['avgtempo'] / 200) +  # slower tempo may imply harder control\n",
    "    0.1  * (1 - df['Duration'] / 500)  # very long pieces may be more demanding overall\n",
    ")\n",
    "\n",
    "# Display the DataFrame with the difficulty score\n",
    "print(df[['Competitior Name', 'Piece', 'difficulty_score']])\n"
   ]
  }
 ],
 "metadata": {
  "kernelspec": {
   "display_name": "base",
   "language": "python",
   "name": "python3"
  },
  "language_info": {
   "codemirror_mode": {
    "name": "ipython",
    "version": 3
   },
   "file_extension": ".py",
   "mimetype": "text/x-python",
   "name": "python",
   "nbconvert_exporter": "python",
   "pygments_lexer": "ipython3",
   "version": "3.11.7"
  }
 },
 "nbformat": 4,
 "nbformat_minor": 5
}
