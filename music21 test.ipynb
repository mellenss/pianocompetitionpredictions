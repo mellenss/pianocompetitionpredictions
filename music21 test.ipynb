{
 "cells": [
  {
   "cell_type": "code",
   "execution_count": 23,
   "id": "7c6f97a0-e2dc-4c35-b35e-e19e472961bc",
   "metadata": {},
   "outputs": [
    {
     "name": "stdout",
     "output_type": "stream",
     "text": [
      "Defaulting to user installation because normal site-packages is not writeable\n",
      "Requirement already satisfied: music21 in /Users/melodyqian/Library/Python/3.9/lib/python/site-packages (8.3.0)\n",
      "Requirement already satisfied: chardet in /Users/melodyqian/Library/Python/3.9/lib/python/site-packages (from music21) (5.2.0)\n",
      "Requirement already satisfied: more-itertools in /Users/melodyqian/Library/Python/3.9/lib/python/site-packages (from music21) (10.6.0)\n",
      "Requirement already satisfied: requests in /Users/melodyqian/Library/Python/3.9/lib/python/site-packages (from music21) (2.32.3)\n",
      "Requirement already satisfied: matplotlib in /Users/melodyqian/Library/Python/3.9/lib/python/site-packages (from music21) (3.9.4)\n",
      "Requirement already satisfied: jsonpickle in /Users/melodyqian/Library/Python/3.9/lib/python/site-packages (from music21) (4.0.2)\n",
      "Requirement already satisfied: webcolors>=1.5 in /Users/melodyqian/Library/Python/3.9/lib/python/site-packages (from music21) (24.11.1)\n",
      "Requirement already satisfied: joblib in /Users/melodyqian/Library/Python/3.9/lib/python/site-packages (from music21) (1.4.2)\n",
      "Requirement already satisfied: numpy in /Users/melodyqian/Library/Python/3.9/lib/python/site-packages (from music21) (2.0.2)\n",
      "Requirement already satisfied: fonttools>=4.22.0 in /Users/melodyqian/Library/Python/3.9/lib/python/site-packages (from matplotlib->music21) (4.56.0)\n",
      "Requirement already satisfied: importlib-resources>=3.2.0 in /Users/melodyqian/Library/Python/3.9/lib/python/site-packages (from matplotlib->music21) (6.5.2)\n",
      "Requirement already satisfied: pillow>=8 in /Users/melodyqian/Library/Python/3.9/lib/python/site-packages (from matplotlib->music21) (11.1.0)\n",
      "Requirement already satisfied: kiwisolver>=1.3.1 in /Users/melodyqian/Library/Python/3.9/lib/python/site-packages (from matplotlib->music21) (1.4.7)\n",
      "Requirement already satisfied: contourpy>=1.0.1 in /Users/melodyqian/Library/Python/3.9/lib/python/site-packages (from matplotlib->music21) (1.3.0)\n",
      "Requirement already satisfied: pyparsing>=2.3.1 in /Users/melodyqian/Library/Python/3.9/lib/python/site-packages (from matplotlib->music21) (3.2.1)\n",
      "Requirement already satisfied: python-dateutil>=2.7 in /Users/melodyqian/Library/Python/3.9/lib/python/site-packages (from matplotlib->music21) (2.9.0.post0)\n",
      "Requirement already satisfied: packaging>=20.0 in /Users/melodyqian/Library/Python/3.9/lib/python/site-packages (from matplotlib->music21) (24.2)\n",
      "Requirement already satisfied: cycler>=0.10 in /Users/melodyqian/Library/Python/3.9/lib/python/site-packages (from matplotlib->music21) (0.12.1)\n",
      "Requirement already satisfied: zipp>=3.1.0 in /Users/melodyqian/Library/Python/3.9/lib/python/site-packages (from importlib-resources>=3.2.0->matplotlib->music21) (3.21.0)\n",
      "Requirement already satisfied: six>=1.5 in /Library/Developer/CommandLineTools/Library/Frameworks/Python3.framework/Versions/3.9/lib/python3.9/site-packages (from python-dateutil>=2.7->matplotlib->music21) (1.15.0)\n",
      "Requirement already satisfied: urllib3<3,>=1.21.1 in /Users/melodyqian/Library/Python/3.9/lib/python/site-packages (from requests->music21) (2.3.0)\n",
      "Requirement already satisfied: charset-normalizer<4,>=2 in /Users/melodyqian/Library/Python/3.9/lib/python/site-packages (from requests->music21) (3.4.1)\n",
      "Requirement already satisfied: certifi>=2017.4.17 in /Users/melodyqian/Library/Python/3.9/lib/python/site-packages (from requests->music21) (2025.1.31)\n",
      "Requirement already satisfied: idna<4,>=2.5 in /Users/melodyqian/Library/Python/3.9/lib/python/site-packages (from requests->music21) (3.10)\n",
      "\u001b[33mWARNING: You are using pip version 21.2.4; however, version 25.0.1 is available.\n",
      "You should consider upgrading via the '/Library/Developer/CommandLineTools/usr/bin/python3 -m pip install --upgrade pip' command.\u001b[0m\n",
      "Note: you may need to restart the kernel to use updated packages.\n"
     ]
    }
   ],
   "source": [
    "pip install music21"
   ]
  },
  {
   "cell_type": "code",
   "execution_count": 90,
   "id": "5e347c5d",
   "metadata": {},
   "outputs": [
    {
     "name": "stdout",
     "output_type": "stream",
     "text": [
      "Defaulting to user installation because normal site-packages is not writeable\n",
      "Requirement already satisfied: pandas in /Users/melodyqian/Library/Python/3.9/lib/python/site-packages (2.2.3)\n",
      "Requirement already satisfied: python-dateutil>=2.8.2 in /Users/melodyqian/Library/Python/3.9/lib/python/site-packages (from pandas) (2.9.0.post0)\n",
      "Requirement already satisfied: numpy>=1.22.4 in /Users/melodyqian/Library/Python/3.9/lib/python/site-packages (from pandas) (2.0.2)\n",
      "Requirement already satisfied: tzdata>=2022.7 in /Users/melodyqian/Library/Python/3.9/lib/python/site-packages (from pandas) (2025.1)\n",
      "Requirement already satisfied: pytz>=2020.1 in /Users/melodyqian/Library/Python/3.9/lib/python/site-packages (from pandas) (2025.1)\n",
      "Requirement already satisfied: six>=1.5 in /Library/Developer/CommandLineTools/Library/Frameworks/Python3.framework/Versions/3.9/lib/python3.9/site-packages (from python-dateutil>=2.8.2->pandas) (1.15.0)\n",
      "\u001b[33mWARNING: You are using pip version 21.2.4; however, version 25.0.1 is available.\n",
      "You should consider upgrading via the '/Library/Developer/CommandLineTools/usr/bin/python3 -m pip install --upgrade pip' command.\u001b[0m\n",
      "Note: you may need to restart the kernel to use updated packages.\n"
     ]
    }
   ],
   "source": [
    "pip install pandas "
   ]
  },
  {
   "cell_type": "code",
   "execution_count": 94,
   "id": "7a1c5dfa",
   "metadata": {},
   "outputs": [],
   "source": [
    "\n",
    "import numpy as np"
   ]
  },
  {
   "cell_type": "code",
   "execution_count": 25,
   "id": "c1cdcc8b-2766-43b2-bb8c-15e77ece1312",
   "metadata": {},
   "outputs": [],
   "source": [
    "from music21 import *"
   ]
  },
  {
   "cell_type": "code",
   "execution_count": 26,
   "id": "9dae3376",
   "metadata": {},
   "outputs": [],
   "source": [
    "import pandas as pd"
   ]
  },
  {
   "cell_type": "code",
   "execution_count": 27,
   "id": "5df1ba9f-7019-4811-be19-e947d2d8bb74",
   "metadata": {},
   "outputs": [],
   "source": [
    "s = corpus.parse('bach/bwv65.2.xml')"
   ]
  },
  {
   "cell_type": "code",
   "execution_count": 28,
   "id": "e46324b0-b5b5-4a38-9a0b-84053b6f3318",
   "metadata": {},
   "outputs": [
    {
     "data": {
      "text/plain": [
       "<music21.key.Key of a minor>"
      ]
     },
     "execution_count": 28,
     "metadata": {},
     "output_type": "execute_result"
    }
   ],
   "source": [
    "s.analyze('key')"
   ]
  },
  {
   "cell_type": "code",
   "execution_count": 116,
   "id": "3927c6cd-6724-4bad-a9bc-a39a852d07f7",
   "metadata": {},
   "outputs": [],
   "source": [
    "from music21 import corpus, meter, tempo"
   ]
  },
  {
   "cell_type": "code",
   "execution_count": 31,
   "id": "a4d66980",
   "metadata": {},
   "outputs": [
    {
     "name": "stdout",
     "output_type": "stream",
     "text": [
      "\n",
      "______________________________________________________________________________ \n",
      "  \n",
      "Welcome to the music21 Configuration Assistant. You will be guided through a \n",
      "number of questions to install and set up music21. Simply pressing return at a \n",
      "prompt will select a default, if available. \n",
      "\n",
      "You may run this configuration again at a later time by running \n",
      "music21/configure.py. \n",
      "  \n",
      "______________________________________________________________________________ \n",
      "  \n",
      "Defining an XML Reader permits automatically opening music21-generated \n",
      "MusicXML in an editor for display and manipulation when calling the show() \n",
      "method. Setting this option is highly recommended. \n",
      "  \n",
      "[1] /Applications/MuseScore 3.app \n",
      "  \n",
      "Choose a number from the preceding options (default is 1): \n",
      "MusicXML Reader set to: /Applications/MuseScore 3.app \n",
      "  \n",
      "______________________________________________________________________________ \n",
      "  \n",
      "The BSD-licensed music21 software is distributed with a corpus of encoded \n",
      "compositions which are distributed with the permission of the encoders (and, \n",
      "where needed, the composers or arrangers) and where permitted under United \n",
      "States copyright law. Some encodings included in the corpus may not be used \n",
      "for commercial uses or have other restrictions: please see the licenses \n",
      "embedded in individual compositions or directories for more details. \n",
      "  \n",
      "In addition to the corpus distributed with music21, other pieces are not \n",
      "included in this distribution, but are indexed as links to other web sites \n",
      "where they can be downloaded (the \"virtual corpus\"). If you would like, \n",
      "music21 can help your computer automatically resolve these links and bring \n",
      "them to your hard drive for analysis. \n",
      "To the best of our knowledge, the music (if not the encodings) in the corpus \n",
      "are either out of copyright in the United States and/or are licensed for non- \n",
      "commercial use. These works, along with any works linked to in the virtual \n",
      "corpus, may or may not be free in your jurisdiction. If you believe this \n",
      "message to be in error regarding one or more works please contact Michael \n",
      "Cuthbert at cuthbert@mit.edu. \n",
      "  \n",
      "Would you like to: \n",
      "[1] Acknowledge these terms and allow music21 to aid in finding pieces in the \n",
      "corpus \n",
      "[2] Acknowledge these terms and block the virtual corpus \n",
      "[3] Do not agree to these terms and will not use music21 (agreeing to the \n",
      "terms of the corpus is mandatory for using the system). \n",
      "  \n",
      "Choose a number from the preceding options (default is 1): \n",
      "Auto Download set to: allow \n",
      "  \n",
      "______________________________________________________________________________ \n",
      "  \n",
      "Would you like to send a pre-formatted email to music21 regarding your \n",
      "installation? Installation reports help us make music21 work better for you: \n",
      "Enter Yes or No (default is Yes): \n",
      "______________________________________________________________________________ \n",
      "  \n",
      "The music21 discussion group provides a forum for asking questions and getting \n",
      "help. Would you like to see the music21 discussion list or sign up for \n",
      "updates? Enter Yes or No (default is Yes): \n",
      "______________________________________________________________________________ \n",
      "  \n",
      "Would you like to view the music21 documentation in a web browser? Enter Yes \n",
      "or No (default is Yes): \n",
      "______________________________________________________________________________ \n",
      "  \n",
      "The music21 Configuration Assistant is complete. Press return to continue. "
     ]
    }
   ],
   "source": [
    "configure.run()\n"
   ]
  },
  {
   "cell_type": "code",
   "execution_count": 33,
   "id": "e4550213-5a49-4914-ae55-b8163c825f14",
   "metadata": {},
   "outputs": [],
   "source": [
    "nocturne=converter.parse('/Users/melodyqian/Documents/GitHub/pianocompetitionpredictions/test/chopnoc9.mxl')"
   ]
  },
  {
   "cell_type": "code",
   "execution_count": null,
   "id": "4243ded5",
   "metadata": {},
   "outputs": [
    {
     "name": "stdout",
     "output_type": "stream",
     "text": [
      "1253\n"
     ]
    }
   ],
   "source": [
    "#First: number of Notes This is is more coomplicated than the chord function because I had to count each note in the chord.\n",
    "nocflat=nocturne.flat\n",
    "\n",
    "number_of_notes = 0\n",
    "for elem in elements:\n",
    "    if isinstance(elem, note.Note):\n",
    "        number_of_notes += 1\n",
    "    elif isinstance(elem, chord.Chord):\n",
    "        number_of_notes += len(elem.pitches)\n",
    "\n",
    "print(number_of_notes)"
   ]
  },
  {
   "cell_type": "code",
   "execution_count": 85,
   "id": "15594ca9",
   "metadata": {},
   "outputs": [
    {
     "name": "stdout",
     "output_type": "stream",
     "text": [
      "301\n"
     ]
    }
   ],
   "source": [
    "#Number of chords\n",
    "nocchords = [element for element in nocflat if isinstance(element, chord.Chord)]\n",
    "\n",
    "print(len(nocchords))\n",
    "\n"
   ]
  },
  {
   "cell_type": "code",
   "execution_count": 107,
   "id": "8149a836",
   "metadata": {},
   "outputs": [
    {
     "name": "stdout",
     "output_type": "stream",
     "text": [
      "7.006666666666667\n"
     ]
    }
   ],
   "source": [
    "#Pitchwise distances between chords, we go by the root of the chord or the lowest note.\n",
    "def chordpitchdistances(chords):\n",
    "    pitchdistances= []\n",
    "    for i in range(len(chords)-1):\n",
    "        firstchord= chords[i]\n",
    "        secondchord= chords[i+1]\n",
    "        rootInterval=interval.Interval(firstchord.root(),secondchord.root())\n",
    "        pitchdistances.append(rootInterval.semitones)\n",
    "    return(pitchdistances)\n",
    "\n",
    "nocpitchdistances = chordpitchdistances(nocchords)\n",
    "noc_abs_dis= [abs(dis) for dis in nocpitchdistances]\n",
    "#print(noc_abs_dis)\n",
    "print(np.mean(noc_abs_dis))\n"
   ]
  },
  {
   "cell_type": "code",
   "execution_count": 108,
   "id": "b6ef751e",
   "metadata": {},
   "outputs": [
    {
     "name": "stdout",
     "output_type": "stream",
     "text": [
      "0.695\n"
     ]
    }
   ],
   "source": [
    "def chordtimedistances(chords):\n",
    "    timedistances=[]\n",
    "    for i in range(len(chords)-1):\n",
    "        firstchord= chords[i]\n",
    "        secondchord= chords[i+1]\n",
    "        time_difference = secondchord.offset - firstchord.offset\n",
    "        timedistances.append(time_difference)  # Add time difference to the list\n",
    "    return timedistances\n",
    "\n",
    "noctimedistances = chordtimedistances(nocchords)\n",
    "print(np.mean(noctimedistances))\n",
    "\n",
    "\n"
   ]
  },
  {
   "cell_type": "code",
   "execution_count": 143,
   "id": "ec6fb026",
   "metadata": {},
   "outputs": [
    {
     "name": "stdout",
     "output_type": "stream",
     "text": [
      "E- major\n",
      "8\n"
     ]
    }
   ],
   "source": [
    "print(nocflat.analyze('key'))\n",
    "noctimesignatures=nocflat.getElementsByClass(meter.TimeSignature)\n",
    "print(len(noctimesignatures))\n"
   ]
  },
  {
   "cell_type": "code",
   "execution_count": 147,
   "id": "24ff8e18",
   "metadata": {},
   "outputs": [
    {
     "name": "stdout",
     "output_type": "stream",
     "text": [
      "{60.0: 36, 35.0: 35, 40.0: 33, 70.0: 33, 80.0: 34, 50.0: 35, 20.0: 35}\n",
      "59.96\n"
     ]
    }
   ],
   "source": [
    "noctempo= nocflat.getElementsByClass(tempo.MetronomeMark)\n",
    "nocBPMdict = {}\n",
    "for tm in noctempo:\n",
    "    bpm=tm.getQuarterBPM()\n",
    "    measureNumber=tm.measureNumber\n",
    "    nocBPMdict[bpm]=measureNumber\n",
    "print(nocBPMdict)\n",
    "\n",
    "#key is bpm, value is measure number. now let's take a weighted average.\n",
    "weighted_tempo=[]\n",
    "sorted_tempos = sorted(noctempo, key=lambda tm: tm.measureNumber)\n",
    "for i in range(len(sorted_tempos)):\n",
    "    current_bpm = sorted_tempos[i].getQuarterBPM()\n",
    "    current_measure = sorted_tempos[i].measureNumber\n",
    "    if i < len(sorted_tempos) - 1:\n",
    "        next_measure = sorted_tempos[i + 1].measureNumber\n",
    "        duration = next_measure - current_measure\n",
    "    else:\n",
    "        # If this is the last tempo, assume it lasts to the end of the piece\n",
    "        duration = nocturne.highestTime\n",
    "    weighted_tempo.append((current_bpm, duration))\n",
    "\n",
    "total_weight = sum(duration for _, duration in weighted_tempo)\n",
    "weighted_mean = sum(bpm * duration for bpm, duration in weighted_tempo) / total_weight \n",
    "print(f\"{weighted_mean:.2f}\")\n",
    "    "
   ]
  },
  {
   "cell_type": "code",
   "execution_count": null,
   "id": "7a233b5e",
   "metadata": {},
   "outputs": [
    {
     "name": "stdout",
     "output_type": "stream",
     "text": [
      "38.0\n"
     ]
    }
   ],
   "source": [
    "#number of measures\n",
    "num_measures = len(nocturne.recurse().getElementsByClass('Measure'))\n",
    "print(num_measures/2)\n",
    "#need to divide measures by 2 because it counts the left and right hand parts separately."
   ]
  },
  {
   "cell_type": "code",
   "execution_count": 57,
   "id": "b072fc05",
   "metadata": {},
   "outputs": [
    {
     "name": "stdout",
     "output_type": "stream",
     "text": [
      "106\n",
      "122\n",
      "494\n",
      "20\n",
      "0\n"
     ]
    }
   ],
   "source": [
    "from collections import Counter\n",
    "\n",
    "duration_counter = Counter()\n",
    "\n",
    "for note in nocturne.recurse().notes:\n",
    "    duration_counter[note.duration.quarterLength] += 1\n",
    "\n",
    "num_32nd_notes_and_shorter = sum(count for duration, count in duration_counter.items() if duration <= 0.125)\n",
    "print(num_32nd_notes_and_shorter)\n",
    "\n",
    "num_16_notes=sum(count for duration, count in duration_counter.items() if duration==.25)\n",
    "print(num_16_notes)\n",
    "\n",
    "num_eighth=sum(count for duration, count in duration_counter.items() if duration==0.5)\n",
    "print(num_eighth)\n",
    "\n",
    "num_quarter=sum(count for duration, count in duration_counter.items() if duration==1)\n",
    "print(num_quarter)\n",
    "\n",
    "num_half=sum(count for duration, count in duration_counter.items() if duration==2)\n",
    "print(num_half)\n",
    "\n",
    "sample= [106, 122, 494, 20, 0]"
   ]
  },
  {
   "cell_type": "code",
   "execution_count": 70,
   "id": "fbe95b27",
   "metadata": {},
   "outputs": [
    {
     "name": "stdout",
     "output_type": "stream",
     "text": [
      "32nd_and_shorter: 106\n",
      "16th: 122\n",
      "eighth: 494\n",
      "quarter: 20\n",
      "dotted quarter: 48\n",
      "half: 0\n",
      "dotted half: 9\n",
      "whole: 0\n",
      "799\n"
     ]
    }
   ],
   "source": [
    "# Define note durations\n",
    "note_durations = {\n",
    "    '32nd_and_shorter': 0.125,\n",
    "    '16th': 0.25,\n",
    "    'eighth': 0.5,\n",
    "    'quarter': 1,\n",
    "    'dotted quarter': 1.5,\n",
    "    'half': 2,\n",
    "    'dotted half': 3,\n",
    "    'whole': 4\n",
    "}\n",
    "\n",
    "duration_counter = Counter(note.duration.quarterLength for note in nocturne.recurse().notes)\n",
    "\n",
    "def count_notes(nocturne, duration_counter):\n",
    "    note_counts= {}\n",
    "    for name, duration in note_durations.items():\n",
    "        if name=='32nd_and_shorter':\n",
    "            note_counts[name]= sum(count for d, count in duration_counter.items() if d<=duration)\n",
    "        else:\n",
    "            note_counts[name]=duration_counter[duration]\n",
    "    return note_counts\n",
    "\n",
    "note_counts = count_notes(nocturne, duration_counter)\n",
    "\n",
    "for name, count in note_counts.items():\n",
    "    print(f\"{name}: {count}\")\n",
    "\n",
    "total_notes = sum(note_counts.values())\n",
    "print(total_notes)"
   ]
  }
 ],
 "metadata": {
  "kernelspec": {
   "display_name": "Python 3",
   "language": "python",
   "name": "python3"
  },
  "language_info": {
   "codemirror_mode": {
    "name": "ipython",
    "version": 3
   },
   "file_extension": ".py",
   "mimetype": "text/x-python",
   "name": "python",
   "nbconvert_exporter": "python",
   "pygments_lexer": "ipython3",
   "version": "3.9.6"
  }
 },
 "nbformat": 4,
 "nbformat_minor": 5
}
