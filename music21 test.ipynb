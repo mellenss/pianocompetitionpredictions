{
 "cells": [
  {
   "cell_type": "code",
   "execution_count": 3,
   "id": "7c6f97a0-e2dc-4c35-b35e-e19e472961bc",
   "metadata": {},
   "outputs": [
    {
     "name": "stdout",
     "output_type": "stream",
     "text": [
      "Defaulting to user installation because normal site-packages is not writeable\n",
      "Collecting music21\n",
      "  Downloading music21-8.3.0-py3-none-any.whl (22.8 MB)\n",
      "\u001b[K     |████████████████████████████████| 22.8 MB 110 kB/s eta 0:00:01\n",
      "\u001b[?25hCollecting webcolors>=1.5\n",
      "  Downloading webcolors-24.11.1-py3-none-any.whl (14 kB)\n",
      "Collecting joblib\n",
      "  Downloading joblib-1.4.2-py3-none-any.whl (301 kB)\n",
      "\u001b[K     |████████████████████████████████| 301 kB 15.0 MB/s eta 0:00:01\n",
      "\u001b[?25hCollecting requests\n",
      "  Downloading requests-2.32.3-py3-none-any.whl (64 kB)\n",
      "\u001b[K     |████████████████████████████████| 64 kB 7.6 MB/s eta 0:00:011\n",
      "\u001b[?25hCollecting jsonpickle\n",
      "  Downloading jsonpickle-4.0.2-py3-none-any.whl (46 kB)\n",
      "\u001b[K     |████████████████████████████████| 46 kB 8.7 MB/s  eta 0:00:01\n",
      "\u001b[?25hCollecting numpy\n",
      "  Downloading numpy-2.0.2-cp39-cp39-macosx_14_0_arm64.whl (5.3 MB)\n",
      "\u001b[K     |████████████████████████████████| 5.3 MB 20 kB/s eta 0:00:0101\n",
      "\u001b[?25hCollecting matplotlib\n",
      "  Downloading matplotlib-3.9.4-cp39-cp39-macosx_11_0_arm64.whl (7.8 MB)\n",
      "\u001b[K     |████████████████████████████████| 7.8 MB 130 kB/s eta 0:00:011\n",
      "\u001b[?25hCollecting more-itertools\n",
      "  Downloading more_itertools-10.6.0-py3-none-any.whl (63 kB)\n",
      "\u001b[K     |████████████████████████████████| 63 kB 4.5 MB/s eta 0:00:011\n",
      "\u001b[?25hCollecting chardet\n",
      "  Downloading chardet-5.2.0-py3-none-any.whl (199 kB)\n",
      "\u001b[K     |████████████████████████████████| 199 kB 10.1 MB/s eta 0:00:01\n",
      "\u001b[?25hCollecting pillow>=8\n",
      "  Downloading pillow-11.1.0-cp39-cp39-macosx_11_0_arm64.whl (3.1 MB)\n",
      "\u001b[K     |████████████████████████████████| 3.1 MB 113 kB/s eta 0:00:011\n",
      "\u001b[?25hCollecting contourpy>=1.0.1\n",
      "  Downloading contourpy-1.3.0-cp39-cp39-macosx_11_0_arm64.whl (249 kB)\n",
      "\u001b[K     |████████████████████████████████| 249 kB 3.0 MB/s eta 0:00:01\n",
      "\u001b[?25hCollecting fonttools>=4.22.0\n",
      "  Downloading fonttools-4.56.0-cp39-cp39-macosx_10_9_universal2.whl (2.8 MB)\n",
      "\u001b[K     |████████████████████████████████| 2.8 MB 9.7 MB/s eta 0:00:01\n",
      "\u001b[?25hCollecting pyparsing>=2.3.1\n",
      "  Downloading pyparsing-3.2.1-py3-none-any.whl (107 kB)\n",
      "\u001b[K     |████████████████████████████████| 107 kB 48.0 MB/s eta 0:00:01\n",
      "\u001b[?25hCollecting cycler>=0.10\n",
      "  Downloading cycler-0.12.1-py3-none-any.whl (8.3 kB)\n",
      "Requirement already satisfied: python-dateutil>=2.7 in /Users/melodyqian/Library/Python/3.9/lib/python/site-packages (from matplotlib->music21) (2.9.0.post0)\n",
      "Collecting importlib-resources>=3.2.0\n",
      "  Downloading importlib_resources-6.5.2-py3-none-any.whl (37 kB)\n",
      "Requirement already satisfied: packaging>=20.0 in /Users/melodyqian/Library/Python/3.9/lib/python/site-packages (from matplotlib->music21) (24.2)\n",
      "Collecting kiwisolver>=1.3.1\n",
      "  Downloading kiwisolver-1.4.7-cp39-cp39-macosx_11_0_arm64.whl (64 kB)\n",
      "\u001b[K     |████████████████████████████████| 64 kB 6.7 MB/s eta 0:00:01\n",
      "\u001b[?25hRequirement already satisfied: zipp>=3.1.0 in /Users/melodyqian/Library/Python/3.9/lib/python/site-packages (from importlib-resources>=3.2.0->matplotlib->music21) (3.21.0)\n",
      "Requirement already satisfied: six>=1.5 in /Library/Developer/CommandLineTools/Library/Frameworks/Python3.framework/Versions/3.9/lib/python3.9/site-packages (from python-dateutil>=2.7->matplotlib->music21) (1.15.0)\n",
      "Collecting idna<4,>=2.5\n",
      "  Downloading idna-3.10-py3-none-any.whl (70 kB)\n",
      "\u001b[K     |████████████████████████████████| 70 kB 7.4 MB/s  eta 0:00:01\n",
      "\u001b[?25hCollecting urllib3<3,>=1.21.1\n",
      "  Downloading urllib3-2.3.0-py3-none-any.whl (128 kB)\n",
      "\u001b[K     |████████████████████████████████| 128 kB 12.0 MB/s eta 0:00:01\n",
      "\u001b[?25hCollecting certifi>=2017.4.17\n",
      "  Downloading certifi-2025.1.31-py3-none-any.whl (166 kB)\n",
      "\u001b[K     |████████████████████████████████| 166 kB 8.1 MB/s eta 0:00:01\n",
      "\u001b[?25hCollecting charset-normalizer<4,>=2\n",
      "  Downloading charset_normalizer-3.4.1-cp39-cp39-macosx_10_9_universal2.whl (197 kB)\n",
      "\u001b[K     |████████████████████████████████| 197 kB 13.9 MB/s eta 0:00:01\n",
      "\u001b[?25hInstalling collected packages: numpy, urllib3, pyparsing, pillow, kiwisolver, importlib-resources, idna, fonttools, cycler, contourpy, charset-normalizer, certifi, webcolors, requests, more-itertools, matplotlib, jsonpickle, joblib, chardet, music21\n",
      "Successfully installed certifi-2025.1.31 chardet-5.2.0 charset-normalizer-3.4.1 contourpy-1.3.0 cycler-0.12.1 fonttools-4.56.0 idna-3.10 importlib-resources-6.5.2 joblib-1.4.2 jsonpickle-4.0.2 kiwisolver-1.4.7 matplotlib-3.9.4 more-itertools-10.6.0 music21-8.3.0 numpy-2.0.2 pillow-11.1.0 pyparsing-3.2.1 requests-2.32.3 urllib3-2.3.0 webcolors-24.11.1\n",
      "\u001b[33mWARNING: You are using pip version 21.2.4; however, version 25.0.1 is available.\n",
      "You should consider upgrading via the '/Library/Developer/CommandLineTools/usr/bin/python3 -m pip install --upgrade pip' command.\u001b[0m\n",
      "Note: you may need to restart the kernel to use updated packages.\n"
     ]
    }
   ],
   "source": [
    "pip install music21"
   ]
  },
  {
   "cell_type": "code",
   "execution_count": 3,
   "id": "c1cdcc8b-2766-43b2-bb8c-15e77ece1312",
   "metadata": {},
   "outputs": [
    {
     "name": "stderr",
     "output_type": "stream",
     "text": [
      "/Users/melodyqian/Library/Python/3.9/lib/python/site-packages/urllib3/__init__.py:35: NotOpenSSLWarning: urllib3 v2 only supports OpenSSL 1.1.1+, currently the 'ssl' module is compiled with 'LibreSSL 2.8.3'. See: https://github.com/urllib3/urllib3/issues/3020\n",
      "  warnings.warn(\n"
     ]
    }
   ],
   "source": [
    "from music21 import *"
   ]
  },
  {
   "cell_type": "code",
   "execution_count": 5,
   "id": "5df1ba9f-7019-4811-be19-e947d2d8bb74",
   "metadata": {},
   "outputs": [],
   "source": [
    "s = corpus.parse('bach/bwv65.2.xml')"
   ]
  },
  {
   "cell_type": "code",
   "execution_count": 6,
   "id": "e46324b0-b5b5-4a38-9a0b-84053b6f3318",
   "metadata": {},
   "outputs": [
    {
     "data": {
      "text/plain": [
       "<music21.key.Key of a minor>"
      ]
     },
     "execution_count": 6,
     "metadata": {},
     "output_type": "execute_result"
    }
   ],
   "source": [
    "s.analyze('key')"
   ]
  },
  {
   "cell_type": "code",
   "execution_count": 8,
   "id": "3927c6cd-6724-4bad-a9bc-a39a852d07f7",
   "metadata": {},
   "outputs": [],
   "source": [
    "from music21 import corpus\n",
    "mazurka=corpus.parse('chopin/mazurka06-2')"
   ]
  },
  {
   "cell_type": "code",
   "execution_count": 9,
   "id": "36b7aee2-b62b-44f6-974f-330e892cb821",
   "metadata": {},
   "outputs": [
    {
     "data": {
      "text/plain": [
       "<music21.key.Key of c# minor>"
      ]
     },
     "execution_count": 9,
     "metadata": {},
     "output_type": "execute_result"
    }
   ],
   "source": [
    "mazurka.analyze('key')"
   ]
  },
  {
   "cell_type": "code",
   "execution_count": 20,
   "id": "a4d66980",
   "metadata": {},
   "outputs": [
    {
     "name": "stdout",
     "output_type": "stream",
     "text": [
      "\n",
      "______________________________________________________________________________ \n",
      "  \n",
      "Welcome to the music21 Configuration Assistant. You will be guided through a \n",
      "number of questions to install and set up music21. Simply pressing return at a \n",
      "prompt will select a default, if available. \n",
      "\n",
      "You may run this configuration again at a later time by running \n",
      "music21/configure.py. \n",
      "  \n",
      "______________________________________________________________________________ \n",
      "  \n",
      "Defining an XML Reader permits automatically opening music21-generated \n",
      "MusicXML in an editor for display and manipulation when calling the show() \n",
      "method. Setting this option is highly recommended. \n",
      "  \n",
      "[1] /Applications/Musescore4.app \n",
      "  \n",
      "Choose a number from the preceding options (default is 1): \n",
      "MusicXML Reader set to: /Applications/Musescore4.app \n",
      "  \n",
      "______________________________________________________________________________ \n",
      "  \n",
      "The BSD-licensed music21 software is distributed with a corpus of encoded \n",
      "compositions which are distributed with the permission of the encoders (and, \n",
      "where needed, the composers or arrangers) and where permitted under United \n",
      "States copyright law. Some encodings included in the corpus may not be used \n",
      "for commercial uses or have other restrictions: please see the licenses \n",
      "embedded in individual compositions or directories for more details. \n",
      "  \n",
      "In addition to the corpus distributed with music21, other pieces are not \n",
      "included in this distribution, but are indexed as links to other web sites \n",
      "where they can be downloaded (the \"virtual corpus\"). If you would like, \n",
      "music21 can help your computer automatically resolve these links and bring \n",
      "them to your hard drive for analysis. \n",
      "To the best of our knowledge, the music (if not the encodings) in the corpus \n",
      "are either out of copyright in the United States and/or are licensed for non- \n",
      "commercial use. These works, along with any works linked to in the virtual \n",
      "corpus, may or may not be free in your jurisdiction. If you believe this \n",
      "message to be in error regarding one or more works please contact Michael \n",
      "Cuthbert at cuthbert@mit.edu. \n",
      "  \n",
      "Would you like to: \n",
      "[1] Acknowledge these terms and allow music21 to aid in finding pieces in the \n",
      "corpus \n",
      "[2] Acknowledge these terms and block the virtual corpus \n",
      "[3] Do not agree to these terms and will not use music21 (agreeing to the \n",
      "terms of the corpus is mandatory for using the system). \n",
      "  \n",
      "Choose a number from the preceding options (default is 1): \n",
      "Auto Download set to: allow \n",
      "  \n",
      "______________________________________________________________________________ \n",
      "  \n",
      "Would you like to send a pre-formatted email to music21 regarding your \n",
      "installation? Installation reports help us make music21 work better for you: \n",
      "Enter Yes or No (default is Yes): \n",
      "______________________________________________________________________________ \n",
      "  \n",
      "The music21 discussion group provides a forum for asking questions and getting \n",
      "help. Would you like to see the music21 discussion list or sign up for \n",
      "updates? Enter Yes or No (default is Yes): \n",
      "______________________________________________________________________________ \n",
      "  \n",
      "Would you like to view the music21 documentation in a web browser? Enter Yes \n",
      "or No (default is Yes): \n",
      "______________________________________________________________________________ \n",
      "  \n",
      "The music21 Configuration Assistant is complete. Press return to continue. "
     ]
    }
   ],
   "source": [
    "configure.run()"
   ]
  },
  {
   "cell_type": "code",
   "execution_count": 21,
   "id": "e4550213-5a49-4914-ae55-b8163c825f14",
   "metadata": {},
   "outputs": [],
   "source": [
    "nocturne=converter.parse('/Users/melodyqian/Documents/GitHub/pianocompetitionpredictions/test/chopnoc9.mxl', format='musicmxl')"
   ]
  },
  {
   "cell_type": "code",
   "execution_count": 24,
   "id": "5f6835d8-5845-4296-894b-1ccd98903fac",
   "metadata": {},
   "outputs": [],
   "source": [
    "us = environment.UserSettings()\n",
    "us['musicxmlPath'] ='/Applications/Musescore4.app'"
   ]
  },
  {
   "cell_type": "code",
   "execution_count": 31,
   "id": "4243ded5",
   "metadata": {},
   "outputs": [],
   "source": [
    "elements=nocturne.flat.notes\n",
    "\n",
    "number_of_notes = 0\n",
    "for elem in elements:\n",
    "    if isinstance(elem, note.Note):\n",
    "        number_of_notes += 1\n",
    "    elif isinstance(elem, chord.Chord):\n",
    "        number_of_notes += len(elem.pitches)\n",
    "\n"
   ]
  },
  {
   "cell_type": "code",
   "execution_count": 32,
   "id": "4c0d5404",
   "metadata": {},
   "outputs": [
    {
     "name": "stdout",
     "output_type": "stream",
     "text": [
      "Total number of notes in the piece: 1253\n"
     ]
    }
   ],
   "source": [
    "print(f'Total number of notes in the piece: {number_of_notes}')"
   ]
  }
 ],
 "metadata": {
  "kernelspec": {
   "display_name": "Python 3",
   "language": "python",
   "name": "python3"
  },
  "language_info": {
   "codemirror_mode": {
    "name": "ipython",
    "version": 3
   },
   "file_extension": ".py",
   "mimetype": "text/x-python",
   "name": "python",
   "nbconvert_exporter": "python",
   "pygments_lexer": "ipython3",
   "version": "3.9.6"
  }
 },
 "nbformat": 4,
 "nbformat_minor": 5
}
