{
 "cells": [
  {
   "cell_type": "code",
   "execution_count": 3,
   "id": "1937c4a7-6998-4607-b3f4-49a542c0f711",
   "metadata": {},
   "outputs": [],
   "source": [
    "import requests\n",
    "from bs4 import BeautifulSoup"
   ]
  },
  {
   "cell_type": "code",
   "execution_count": 5,
   "id": "62396dcf-da82-425c-8f54-402238aec7bc",
   "metadata": {},
   "outputs": [],
   "source": [
    "tchaik2015=\"https://tchaikovskycompetition.com/en/archive-competition/15-competition-2015-god/\"\n",
    "headers = {\n",
    "    \"User-Agent\": \"Mozilla/5.0 (Windows NT 10.0; Win64; x64) AppleWebKit/537.36 (KHTML, like Gecko) Chrome/91.0.4472.124 Safari/537.36\"\n",
    "}\n",
    "response = requests.get(tchaik2015, headers=headers)\n",
    "page1= requests.get(tchaik2015, headers=headers)\n",
    "soup = BeautifulSoup(page1.content, \"html.parser\")\n",
    "with open(\"page.html\", \"w\") as writer:\n",
    "  writer.write(response.text)\n",
    "\n"
   ]
  },
  {
   "cell_type": "code",
   "execution_count": null,
   "id": "ddc48938-6f6b-4e07-b9f6-dcc6b3f09dd7",
   "metadata": {},
   "outputs": [],
   "source": [
    "contestantnames2015 = soup.find_all(\"p\", class_=\"member-card__name\") \n",
    "for contestant in contestantnames2015:\n",
    "    print(contestant.get_text(strip=True))"
   ]
  },
  {
   "cell_type": "code",
   "execution_count": null,
   "id": "8da48f55-1406-4465-8e4c-d9fa2b9175b2",
   "metadata": {},
   "outputs": [],
   "source": [
    "contestantcountry2015=soup.find_all(\"p\", class_=\"member-card__country\")\n",
    "for contestant in contestantcountry2015:\n",
    "    print(contestant.get_text(strip=True))"
   ]
  },
  {
   "cell_type": "code",
   "execution_count": 31,
   "id": "dae1084b-b791-4ccc-804d-659deba300bf",
   "metadata": {},
   "outputs": [
    {
     "name": "stdout",
     "output_type": "stream",
     "text": [
      "<class 'bs4.element.ResultSet'>\n"
     ]
    }
   ],
   "source": [
    "contestantR12015="
   ]
  },
  {
   "cell_type": "code",
   "execution_count": null,
   "id": "e3e2fe9b-c020-4b07-815b-f8c45138729e",
   "metadata": {},
   "outputs": [],
   "source": []
  }
 ],
 "metadata": {
  "kernelspec": {
   "display_name": "Python 3 (ipykernel)",
   "language": "python",
   "name": "python3"
  },
  "language_info": {
   "codemirror_mode": {
    "name": "ipython",
    "version": 3
   },
   "file_extension": ".py",
   "mimetype": "text/x-python",
   "name": "python",
   "nbconvert_exporter": "python",
   "pygments_lexer": "ipython3",
   "version": "3.12.2"
  }
 },
 "nbformat": 4,
 "nbformat_minor": 5
}
