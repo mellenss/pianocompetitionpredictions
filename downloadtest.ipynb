{
 "cells": [
  {
   "cell_type": "code",
   "execution_count": 2,
   "metadata": {},
   "outputs": [
    {
     "name": "stderr",
     "output_type": "stream",
     "text": [
      "/Users/melodyqian/Library/Python/3.9/lib/python/site-packages/urllib3/__init__.py:35: NotOpenSSLWarning: urllib3 v2 only supports OpenSSL 1.1.1+, currently the 'ssl' module is compiled with 'LibreSSL 2.8.3'. See: https://github.com/urllib3/urllib3/issues/3020\n",
      "  warnings.warn(\n"
     ]
    }
   ],
   "source": [
    "import requests \n",
    "from bs4 import BeautifulSoup\n",
    "import pandas as pd"
   ]
  },
  {
   "cell_type": "code",
   "execution_count": 3,
   "metadata": {},
   "outputs": [
    {
     "name": "stdout",
     "output_type": "stream",
     "text": [
      "       Composer                Piece                           Composite\n",
      "0         Liszt   Hungarian Rhapsody          Liszt%20Hungarian Rhapsody\n",
      "1        Chopin     Etude Op.10 No.1           Chopin%20Etude Op.10 No.1\n",
      "2  Rachmaninoff  Piano Concerto No.2  Rachmaninoff%20Piano Concerto No.2\n",
      "3      Schumann              Reverie                  Schumann%20Reverie\n",
      "4     Beethoven          Sonata No.8             Beethoven%20Sonata No.8\n"
     ]
    }
   ],
   "source": [
    "d={'Composer':['Liszt', 'Chopin', 'Rachmaninoff','Schumann', 'Beethoven'], 'Piece':['Hungarian Rhapsody','Etude Op.10 No.1', 'Piano Concerto No.2', 'Reverie','Sonata No.8']}\n",
    "df=pd.DataFrame(data=d)\n",
    "df['Composite']=df['Composer']+'%20' + df['Piece']\n",
    "print(df)\n"
   ]
  },
  {
   "cell_type": "code",
   "execution_count": 4,
   "metadata": {},
   "outputs": [],
   "source": [
    "for item in df['Composite']:\n",
    "    url=f\"https://musescore.com/api/jmuse/scores?text={item}\"\n",
    "    response=requests.get(url)\n",
    "    "
   ]
  },
  {
   "cell_type": "code",
   "execution_count": 13,
   "metadata": {},
   "outputs": [
    {
     "name": "stdout",
     "output_type": "stream",
     "text": [
      "400\n"
     ]
    }
   ],
   "source": [
    "headers = {\n",
    "    'User-Agent': 'Mozilla/5.0 (Macintosh; Intel Mac OS X 10_15_7) AppleWebKit/537.36 (KHTML, like Gecko) Chrome/134.0.0.0 Safari/537.36',\n",
    "    'connectId': '{\"ttl\":86400000,\"lastUsed\":1744062772066,\"lastSynced\":1744062772066}',\n",
    "    'uwguid':'WEBLS-5199d664-96e9-4c3b-a9f3-e4bebdaddc95',\n",
    "    'mu_browser_uni': 'oLU3LeYB',\n",
    "    'mu_browser_bi' : '8790961565457434337',\n",
    "    '_mu_unified_id': '1.1741044219.272674763',\n",
    "    '_mu_session_id': '1.1744074290.1744074913',\n",
    "    '_csrf': 'C85M6ErSArzetEAbpNlpzRUIUDK5Go_b',\n",
    "    '_cc_id':'4c1475098be3efc2d44cd9f3af7b4ed4',\n",
    "    '_au_1d':'AU1D-0100-001744062772-WKFEET56-JHQ4',\n",
    "    '__gpi':'UID=000010091ae0ab56:T=1744062772:RT=1744065127:S=ALNI_MYrTsdXB8EUaQXmEL9lvNk9Z2frgg'\n",
    "}\n",
    "\n",
    "\n",
    "url=f\"https://musescore.com/api/jmuse/scores?text=chopin%20nocturne\"\n",
    "sampresponse = requests.get(url, headers=headers,  auth=('user', 'pass'), allow_redirects=True)\n",
    "\n",
    "print(sampresponse.status_code)\n",
    "\n",
    "\n",
    "\n",
    "\n",
    "\n",
    "\n",
    "\n",
    "    \n",
    "    \n",
    "\n"
   ]
  },
  {
   "cell_type": "code",
   "execution_count": null,
   "metadata": {},
   "outputs": [
    {
     "name": "stdout",
     "output_type": "stream",
     "text": [
      "Defaulting to user installation because normal site-packages is not writeable\n",
      "Requirement already satisfied: musescore in /Users/melodyqian/Library/Python/3.9/lib/python/site-packages (0.0.2)\n",
      "\u001b[33mWARNING: You are using pip version 21.2.4; however, version 25.0.1 is available.\n",
      "You should consider upgrading via the '/Library/Developer/CommandLineTools/usr/bin/python3 -m pip install --upgrade pip' command.\u001b[0m\n",
      "Note: you may need to restart the kernel to use updated packages.\n"
     ]
    }
   ],
   "source": []
  },
  {
   "cell_type": "code",
   "execution_count": null,
   "metadata": {},
   "outputs": [
    {
     "name": "stdout",
     "output_type": "stream",
     "text": [
      "<Response [403]>\n"
     ]
    }
   ],
   "source": [
    "for item in df['Composite']:\n",
    "    url=f\"https://musescore.com/api/jmuse/scores?text={item}\"\n",
    "    response=requests.get(url)\n",
    "\n",
    "b    "
   ]
  }
 ],
 "metadata": {
  "kernelspec": {
   "display_name": "Python 3",
   "language": "python",
   "name": "python3"
  },
  "language_info": {
   "codemirror_mode": {
    "name": "ipython",
    "version": 3
   },
   "file_extension": ".py",
   "mimetype": "text/x-python",
   "name": "python",
   "nbconvert_exporter": "python",
   "pygments_lexer": "ipython3",
   "version": "3.9.6"
  }
 },
 "nbformat": 4,
 "nbformat_minor": 2
}
