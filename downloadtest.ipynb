{
 "cells": [
  {
   "cell_type": "code",
   "execution_count": null,
   "metadata": {},
   "outputs": [
    {
     "ename": "SyntaxError",
     "evalue": "invalid syntax (1921767279.py, line 1)",
     "output_type": "error",
     "traceback": [
      "\u001b[0;36m  Cell \u001b[0;32mIn[11], line 1\u001b[0;36m\u001b[0m\n\u001b[0;31m    pip install seleniumbase\u001b[0m\n\u001b[0m        ^\u001b[0m\n\u001b[0;31mSyntaxError\u001b[0m\u001b[0;31m:\u001b[0m invalid syntax\n"
     ]
    }
   ],
   "source": [
    "pip install seleniumbase\n"
   ]
  },
  {
   "cell_type": "code",
   "execution_count": 17,
   "metadata": {},
   "outputs": [
    {
     "name": "stdout",
     "output_type": "stream",
     "text": [
      "Defaulting to user installation because normal site-packages is not writeable\n",
      "Collecting dotenv\n",
      "  Downloading dotenv-0.9.9-py2.py3-none-any.whl.metadata (279 bytes)\n",
      "Collecting python-dotenv (from dotenv)\n",
      "  Downloading python_dotenv-1.1.0-py3-none-any.whl.metadata (24 kB)\n",
      "Downloading dotenv-0.9.9-py2.py3-none-any.whl (1.9 kB)\n",
      "Downloading python_dotenv-1.1.0-py3-none-any.whl (20 kB)\n",
      "Installing collected packages: python-dotenv, dotenv\n",
      "Successfully installed dotenv-0.9.9 python-dotenv-1.1.0\n",
      "Note: you may need to restart the kernel to use updated packages.\n"
     ]
    }
   ],
   "source": [
    "pip install dotenv"
   ]
  },
  {
   "cell_type": "code",
   "execution_count": 29,
   "metadata": {},
   "outputs": [],
   "source": [
    "import requests \n",
    "from bs4 import BeautifulSoup\n",
    "import pandas as pd\n",
    "from seleniumbase import Driver"
   ]
  },
  {
   "cell_type": "code",
   "execution_count": 27,
   "metadata": {},
   "outputs": [],
   "source": [
    "from seleniumbase import Driver\n",
    "\n",
    "\n",
    "def start_driver():\n",
    "    driver = Driver(uc=True, headless=False)\n",
    "    return driver"
   ]
  },
  {
   "cell_type": "code",
   "execution_count": 28,
   "metadata": {},
   "outputs": [
    {
     "ename": "ModuleNotFoundError",
     "evalue": "No module named 'start_driver'",
     "output_type": "error",
     "traceback": [
      "\u001b[0;31m---------------------------------------------------------------------------\u001b[0m",
      "\u001b[0;31mModuleNotFoundError\u001b[0m                       Traceback (most recent call last)",
      "Cell \u001b[0;32mIn[28], line 1\u001b[0m\n\u001b[0;32m----> 1\u001b[0m \u001b[38;5;28;01mfrom\u001b[39;00m\u001b[38;5;250m \u001b[39m\u001b[38;5;21;01mstart_driver\u001b[39;00m\u001b[38;5;250m \u001b[39m\u001b[38;5;28;01mimport\u001b[39;00m start_driver\n\u001b[1;32m      2\u001b[0m \u001b[38;5;28;01mfrom\u001b[39;00m\u001b[38;5;250m \u001b[39m\u001b[38;5;21;01mlogin\u001b[39;00m\u001b[38;5;250m \u001b[39m\u001b[38;5;28;01mimport\u001b[39;00m login\n\u001b[1;32m      3\u001b[0m \u001b[38;5;28;01mimport\u001b[39;00m\u001b[38;5;250m \u001b[39m\u001b[38;5;21;01mtime\u001b[39;00m\n",
      "\u001b[0;31mModuleNotFoundError\u001b[0m: No module named 'start_driver'"
     ]
    }
   ],
   "source": [
    "from start_driver import start_driver\n",
    "from login import login\n",
    "import time\n",
    "\n",
    "\n",
    "def main():\n",
    "    driver = start_driver()\n",
    "    login(driver)\n",
    "\n",
    "    time.sleep(100000000)\n",
    "\n",
    "\n",
    "main()"
   ]
  },
  {
   "cell_type": "code",
   "execution_count": 18,
   "metadata": {},
   "outputs": [],
   "source": [
    "from seleniumbase import Driver\n",
    "from dotenv import load_dotenv\n",
    "\n",
    "\n",
    "def start_driver():\n",
    "    driver = Driver(uc=True, headless=False)\n",
    "    return driver"
   ]
  },
  {
   "cell_type": "code",
   "execution_count": 25,
   "metadata": {},
   "outputs": [],
   "source": [
    "\n",
    "import os, time\n",
    "def login(driver):\n",
    "    load_dotenv()\n",
    "\n",
    "    username = \"pianoellenfor\"\n",
    "    password = \"Mouse24##w\"\n",
    "\n",
    "    url = \"https://musescore.com/user/login\"\n",
    "    driver.uc_open(url)\n",
    "\n",
    "    driver.wait_for_element(\"#username\", timeout=3)\n",
    "    driver.wait_for_element(\"#password\", timeout=3)\n",
    "\n",
    "    driver.type(\"#username\", username)\n",
    "    driver.type(\"#password\", password)\n",
    "\n",
    "    driver.click(\"#user-login-form > section.lPCDt.oJw2k.TtJOf.dC3Y7.g1QZl > button\")\n"
   ]
  },
  {
   "cell_type": "code",
   "execution_count": 24,
   "metadata": {},
   "outputs": [
    {
     "ename": "TypeError",
     "evalue": "login() missing 1 required positional argument: 'driver'",
     "output_type": "error",
     "traceback": [
      "\u001b[0;31m---------------------------------------------------------------------------\u001b[0m",
      "\u001b[0;31mTypeError\u001b[0m                                 Traceback (most recent call last)",
      "Cell \u001b[0;32mIn[24], line 1\u001b[0m\n\u001b[0;32m----> 1\u001b[0m \u001b[43mlogin\u001b[49m\u001b[43m(\u001b[49m\u001b[43m)\u001b[49m\n",
      "\u001b[0;31mTypeError\u001b[0m: login() missing 1 required positional argument: 'driver'"
     ]
    }
   ],
   "source": [
    "login()"
   ]
  },
  {
   "cell_type": "code",
   "execution_count": 3,
   "metadata": {},
   "outputs": [
    {
     "name": "stdout",
     "output_type": "stream",
     "text": [
      "       Composer                Piece                           Composite\n",
      "0         Liszt   Hungarian Rhapsody          Liszt%20Hungarian Rhapsody\n",
      "1        Chopin     Etude Op.10 No.1           Chopin%20Etude Op.10 No.1\n",
      "2  Rachmaninoff  Piano Concerto No.2  Rachmaninoff%20Piano Concerto No.2\n",
      "3      Schumann              Reverie                  Schumann%20Reverie\n",
      "4     Beethoven          Sonata No.8             Beethoven%20Sonata No.8\n"
     ]
    }
   ],
   "source": [
    "d={'Composer':['Liszt', 'Chopin', 'Rachmaninoff','Schumann', 'Beethoven'], 'Piece':['Hungarian Rhapsody','Etude Op.10 No.1', 'Piano Concerto No.2', 'Reverie','Sonata No.8']}\n",
    "df=pd.DataFrame(data=d)\n",
    "df['Composite']=df['Composer']+'%20' + df['Piece']\n",
    "print(df)\n"
   ]
  },
  {
   "cell_type": "code",
   "execution_count": null,
   "metadata": {},
   "outputs": [],
   "source": []
  },
  {
   "cell_type": "code",
   "execution_count": null,
   "metadata": {},
   "outputs": [],
   "source": []
  },
  {
   "cell_type": "code",
   "execution_count": null,
   "metadata": {},
   "outputs": [],
   "source": [
    "for item in df['Composite']:\n",
    "    url=f\"https://musescore.com/api/jmuse/scores?text={item}\"\n",
    "    response=requests.get(url)\n",
    "    "
   ]
  },
  {
   "cell_type": "code",
   "execution_count": 13,
   "metadata": {},
   "outputs": [
    {
     "name": "stdout",
     "output_type": "stream",
     "text": [
      "400\n"
     ]
    }
   ],
   "source": [
    "headers = {\n",
    "    'User-Agent': 'Mozilla/5.0 (Macintosh; Intel Mac OS X 10_15_7) AppleWebKit/537.36 (KHTML, like Gecko) Chrome/134.0.0.0 Safari/537.36',\n",
    "    'connectId': '{\"ttl\":86400000,\"lastUsed\":1744062772066,\"lastSynced\":1744062772066}',\n",
    "    'uwguid':'WEBLS-5199d664-96e9-4c3b-a9f3-e4bebdaddc95',\n",
    "    'mu_browser_uni': 'oLU3LeYB',\n",
    "    'mu_browser_bi' : '8790961565457434337',\n",
    "    '_mu_unified_id': '1.1741044219.272674763',\n",
    "    '_mu_session_id': '1.1744074290.1744074913',\n",
    "    '_csrf': 'C85M6ErSArzetEAbpNlpzRUIUDK5Go_b',\n",
    "    '_cc_id':'4c1475098be3efc2d44cd9f3af7b4ed4',\n",
    "    '_au_1d':'AU1D-0100-001744062772-WKFEET56-JHQ4',\n",
    "    '__gpi':'UID=000010091ae0ab56:T=1744062772:RT=1744065127:S=ALNI_MYrTsdXB8EUaQXmEL9lvNk9Z2frgg'\n",
    "}\n",
    "\n",
    "\n",
    "url=f\"https://musescore.com/api/jmuse/scores?text=chopin%20nocturne\"\n",
    "sampresponse = requests.get(url, headers=headers,  auth=('user', 'pass'), allow_redirects=True)\n",
    "\n",
    "print(sampresponse.status_code)\n",
    "\n",
    "\n",
    "\n",
    "\n",
    "\n",
    "\n",
    "\n",
    "    \n",
    "    \n",
    "\n"
   ]
  },
  {
   "cell_type": "code",
   "execution_count": null,
   "metadata": {},
   "outputs": [
    {
     "name": "stdout",
     "output_type": "stream",
     "text": [
      "Defaulting to user installation because normal site-packages is not writeable\n",
      "Requirement already satisfied: musescore in /Users/melodyqian/Library/Python/3.9/lib/python/site-packages (0.0.2)\n",
      "\u001b[33mWARNING: You are using pip version 21.2.4; however, version 25.0.1 is available.\n",
      "You should consider upgrading via the '/Library/Developer/CommandLineTools/usr/bin/python3 -m pip install --upgrade pip' command.\u001b[0m\n",
      "Note: you may need to restart the kernel to use updated packages.\n"
     ]
    }
   ],
   "source": []
  },
  {
   "cell_type": "code",
   "execution_count": null,
   "metadata": {},
   "outputs": [
    {
     "name": "stdout",
     "output_type": "stream",
     "text": [
      "<Response [403]>\n"
     ]
    }
   ],
   "source": [
    "for item in df['Composite']:\n",
    "    url=f\"https://musescore.com/api/jmuse/scores?text={item}\"\n",
    "    response=requests.get(url)\n",
    "\n",
    "b    "
   ]
  }
 ],
 "metadata": {
  "kernelspec": {
   "display_name": "Python 3",
   "language": "python",
   "name": "python3"
  },
  "language_info": {
   "codemirror_mode": {
    "name": "ipython",
    "version": 3
   },
   "file_extension": ".py",
   "mimetype": "text/x-python",
   "name": "python",
   "nbconvert_exporter": "python",
   "pygments_lexer": "ipython3",
   "version": "3.9.6"
  }
 },
 "nbformat": 4,
 "nbformat_minor": 2
}
